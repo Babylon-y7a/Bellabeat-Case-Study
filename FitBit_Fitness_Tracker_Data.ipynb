{
 "cells": [
  {
   "cell_type": "code",
   "execution_count": 4,
   "id": "233a60e3-13e5-43a6-9038-fb340d0bbd58",
   "metadata": {},
   "outputs": [],
   "source": [
    "### Bellabeat Case Study - ASK Phase"
   ]
  },
  {
   "cell_type": "code",
   "execution_count": 5,
   "id": "dfa0f388-ae67-4b3b-a9d5-4bcf9d033611",
   "metadata": {},
   "outputs": [
    {
     "ename": "ERROR",
     "evalue": "Error in parse(text = input): <text>:2:3: unexpected string constant\n8: - Elde edilen içgörülerle Bellabeat’in pazarlama stratejisini geliştirmek.\n9: \"\n     ^\n",
     "output_type": "error",
     "traceback": [
      "Error in parse(text = input): <text>:2:3: unexpected string constant\n8: - Elde edilen içgörülerle Bellabeat’in pazarlama stratejisini geliştirmek.\n9: \"\n     ^\nTraceback:\n"
     ]
    }
   ],
   "source": [
    "# İş Problemi\n",
    "\"\"\"\n",
    "Bellabeat, kadınlara yönelik akıllı sağlık teknolojileri üreten bir şirkettir. \n",
    "Şirketin kurucuları, akıllı cihaz kullanım verilerini analiz ederek yeni büyüme fırsatları bulabileceklerini düşünüyorlar. \n",
    "Bu nedenle, bir junior veri analisti olarak görevimiz:\n",
    "- Bellabeat ürünlerinden birini seçmek,\n",
    "- Akıllı cihaz kullanım verilerini analiz etmek,\n",
    "- Elde edilen içgörülerle Bellabeat’in pazarlama stratejisini geliştirmek.\n",
    "\"\"\"\n",
    "\n",
    "# İş Hedefleri\n",
    "\"\"\"\n",
    "- Akıllı cihaz kullanımındaki trendleri belirlemek\n",
    "- Bu trendleri Bellabeat’in müşteri kitlesine nasıl uyarlayabileceğimizi bulmak\n",
    "- Bellabeat’in pazarlama stratejisini iyileştirmek için içgörüler oluşturmak\n",
    "\"\"\"\n",
    "\n",
    "# Temel Sorular\n",
    "\"\"\"\n",
    "1. Akıllı cihaz kullanımında hangi trendler gözlemleniyor?\n",
    "   - Kullanıcılar en çok hangi saatlerde aktif?\n",
    "   - Uyku düzenleri nasıl?\n",
    "   - Fiziksel aktivite düzeyleri nasıl değişiyor?\n",
    "   - Adım sayısı, kalp atış hızı gibi verilerde ne gibi örüntüler var?\n",
    "   - **Bu sorular, kullanıcıların sağlık alışkanlıklarını anlamak, Bellabeat’in hangi özellikleri öne çıkarması gerektiğini belirlemek ve pazarlama stratejisini optimize etmek için sorulmaktadır.**\n",
    "\n",
    "2. Bu trendler Bellabeat müşterilerine nasıl uygulanabilir?\n",
    "   - Bellabeat kullanıcıları için hangi cihaz en uygun?\n",
    "   - Bellabeat ürünlerini kullanan kişiler nasıl bir sağlık alışkanlığına sahip olabilir?\n",
    "\n",
    "3. Bu trendler Bellabeat’in pazarlama stratejisini nasıl yönlendirebilir?\n",
    "   - Hangi müşteri segmentlerine odaklanılmalı?\n",
    "   - Hangi pazarlama stratejileri en etkili olur?\n",
    "   - Reklam ve kampanyalar ne zaman ve nasıl yapılmalı?\n",
    "\"\"\"\n",
    "\n",
    "# İş Stakeholder’ları (İlgili Taraflar)\n",
    "\"\"\"\n",
    "- Urška Sršen (Kurucu ve Kreatif Direktör): Projenin yönünü belirleyen kişi.\n",
    "- Sando Mur (Kurucu ve Matematikçi): Veri analizine ilgi duyan, yönetime dahil olan kişi.\n",
    "- Pazarlama Analitiği Ekibi: Bellabeat’in pazarlama kararlarını destekleyecek içgörüler bekleyen ekip.\n",
    "- Müşteriler: Verileri toplanan, analiz edilerek yeni ürün stratejileri geliştirilecek kişiler.\n",
    "\"\"\"\n",
    "\n",
    "### Bellabeat Case Study - PREPARE Phase\n",
    "\n",
    "# Veri Kaynakları\n",
    "\"\"\"\n",
    "- **Fitbit Fitness Tracker Data (Kaggle)**: 30 kullanıcının günlük aktivite, adım sayısı, kalp atış hızı ve uyku verilerini içerir.\n",
    "- **Ek Veri Kaynakları**: Verinin güvenilirliğini artırmak için ek halk sağlığı ve fitness trend raporları değerlendirilebilir.\n",
    "\"\"\"\n",
    "\n",
    "# Veri Değerlendirme ve Hazırlık\n",
    "\"\"\"\n",
    "- Verinin güvenilirliği değerlendirilecek mi?\n",
    "- Eksik, hatalı ve gereksiz veriler temizlenecek mi?\n",
    "- Veri formatı uygun mu, gerekirse dönüşüm yapılmalı mı?\n",
    "\"\"\"\n",
    "\n",
    "# Sonraki Adım: PROCESS (Veri İşleme)\n",
    "\"\"\"\n",
    "Bir sonraki adımda, veriyi temizleyerek analiz için uygun hale getireceğiz.\n",
    "\"\"\""
   ]
  },
  {
   "cell_type": "code",
   "execution_count": 6,
   "id": "5d48c393-04cc-4dfe-9ea5-f78c13cb8c94",
   "metadata": {},
   "outputs": [
    {
     "name": "stderr",
     "output_type": "stream",
     "text": [
      "Installing package into 'C:/Users/hp/AppData/Local/R/win-library/4.4'\n",
      "(as 'lib' is unspecified)\n",
      "\n"
     ]
    },
    {
     "name": "stdout",
     "output_type": "stream",
     "text": [
      "package 'tidyverse' successfully unpacked and MD5 sums checked\n",
      "\n",
      "The downloaded binary packages are in\n",
      "\tC:\\Users\\hp\\AppData\\Local\\Temp\\RtmpqgakPx\\downloaded_packages\n"
     ]
    },
    {
     "name": "stderr",
     "output_type": "stream",
     "text": [
      "Installing package into 'C:/Users/hp/AppData/Local/R/win-library/4.4'\n",
      "(as 'lib' is unspecified)\n",
      "\n"
     ]
    },
    {
     "name": "stdout",
     "output_type": "stream",
     "text": [
      "package 'skimr' successfully unpacked and MD5 sums checked\n",
      "\n",
      "The downloaded binary packages are in\n",
      "\tC:\\Users\\hp\\AppData\\Local\\Temp\\RtmpqgakPx\\downloaded_packages\n"
     ]
    },
    {
     "name": "stderr",
     "output_type": "stream",
     "text": [
      "Installing package into 'C:/Users/hp/AppData/Local/R/win-library/4.4'\n",
      "(as 'lib' is unspecified)\n",
      "\n"
     ]
    },
    {
     "name": "stdout",
     "output_type": "stream",
     "text": [
      "package 'janitor' successfully unpacked and MD5 sums checked\n",
      "\n",
      "The downloaded binary packages are in\n",
      "\tC:\\Users\\hp\\AppData\\Local\\Temp\\RtmpqgakPx\\downloaded_packages\n"
     ]
    },
    {
     "name": "stderr",
     "output_type": "stream",
     "text": [
      "Installing package into 'C:/Users/hp/AppData/Local/R/win-library/4.4'\n",
      "(as 'lib' is unspecified)\n",
      "\n"
     ]
    },
    {
     "name": "stdout",
     "output_type": "stream",
     "text": [
      "package 'readr' successfully unpacked and MD5 sums checked\n",
      "\n",
      "The downloaded binary packages are in\n",
      "\tC:\\Users\\hp\\AppData\\Local\\Temp\\RtmpqgakPx\\downloaded_packages\n"
     ]
    }
   ],
   "source": [
    "install.packages(\"tidyverse\")  # Veri işleme içinuy78gy\n",
    "install.packages(\"skimr\")      # Veri keşfi için\n",
    "install.packages(\"janitor\")    # Veri temizleme için\n",
    "install.packages(\"readr\")      # CSV dosyalarını okumak için\n"
   ]
  },
  {
   "cell_type": "code",
   "execution_count": 7,
   "id": "fbaa4f2a-2d8c-4fa3-ad1f-e2d27545da0f",
   "metadata": {},
   "outputs": [
    {
     "name": "stderr",
     "output_type": "stream",
     "text": [
      "── \u001b[1mAttaching core tidyverse packages\u001b[22m ──────────────────────────────────────────────────────────────── tidyverse 2.0.0 ──\n",
      "\u001b[32m✔\u001b[39m \u001b[34mdplyr    \u001b[39m 1.1.4     \u001b[32m✔\u001b[39m \u001b[34mreadr    \u001b[39m 2.1.5\n",
      "\u001b[32m✔\u001b[39m \u001b[34mforcats  \u001b[39m 1.0.0     \u001b[32m✔\u001b[39m \u001b[34mstringr  \u001b[39m 1.5.1\n",
      "\u001b[32m✔\u001b[39m \u001b[34mggplot2  \u001b[39m 3.5.1     \u001b[32m✔\u001b[39m \u001b[34mtibble   \u001b[39m 3.2.1\n",
      "\u001b[32m✔\u001b[39m \u001b[34mlubridate\u001b[39m 1.9.4     \u001b[32m✔\u001b[39m \u001b[34mtidyr    \u001b[39m 1.3.1\n",
      "\u001b[32m✔\u001b[39m \u001b[34mpurrr    \u001b[39m 1.0.2     \n",
      "── \u001b[1mConflicts\u001b[22m ────────────────────────────────────────────────────────────────────────────────── tidyverse_conflicts() ──\n",
      "\u001b[31m✖\u001b[39m \u001b[34mdplyr\u001b[39m::\u001b[32mfilter()\u001b[39m masks \u001b[34mstats\u001b[39m::filter()\n",
      "\u001b[31m✖\u001b[39m \u001b[34mdplyr\u001b[39m::\u001b[32mlag()\u001b[39m    masks \u001b[34mstats\u001b[39m::lag()\n",
      "\u001b[36mℹ\u001b[39m Use the conflicted package (\u001b[3m\u001b[34m<http://conflicted.r-lib.org/>\u001b[39m\u001b[23m) to force all conflicts to become errors\n"
     ]
    }
   ],
   "source": [
    "library(tidyverse)  # Hem readr hem ggplot gibi paketleri içerir\n",
    "library(readr)  # Eğer yukarıdaki çalışmazsa, sadece readr'ı yükle"
   ]
  },
  {
   "cell_type": "code",
   "execution_count": 8,
   "id": "f1f70f22-5ae2-490a-bbe9-c7710704cd92",
   "metadata": {},
   "outputs": [
    {
     "data": {
      "text/html": [
       "<style>\n",
       ".list-inline {list-style: none; margin:0; padding: 0}\n",
       ".list-inline>li {display: inline-block}\n",
       ".list-inline>li:not(:last-child)::after {content: \"\\00b7\"; padding: 0 .5ex}\n",
       "</style>\n",
       "<ol class=list-inline><li>'dailyActivity_merged.csv'</li><li>'heartrate_seconds_merged.csv'</li><li>'hourlyCalories_merged.csv'</li><li>'hourlyIntensities_merged.csv'</li><li>'hourlySteps_merged.csv'</li><li>'minuteCaloriesNarrow_merged.csv'</li><li>'minuteIntensitiesNarrow_merged.csv'</li><li>'minuteMETsNarrow_merged.csv'</li><li>'minuteSleep_merged.csv'</li><li>'minuteStepsNarrow_merged.csv'</li><li>'weightLogInfo_merged.csv'</li></ol>\n"
      ],
      "text/latex": [
       "\\begin{enumerate*}\n",
       "\\item 'dailyActivity\\_merged.csv'\n",
       "\\item 'heartrate\\_seconds\\_merged.csv'\n",
       "\\item 'hourlyCalories\\_merged.csv'\n",
       "\\item 'hourlyIntensities\\_merged.csv'\n",
       "\\item 'hourlySteps\\_merged.csv'\n",
       "\\item 'minuteCaloriesNarrow\\_merged.csv'\n",
       "\\item 'minuteIntensitiesNarrow\\_merged.csv'\n",
       "\\item 'minuteMETsNarrow\\_merged.csv'\n",
       "\\item 'minuteSleep\\_merged.csv'\n",
       "\\item 'minuteStepsNarrow\\_merged.csv'\n",
       "\\item 'weightLogInfo\\_merged.csv'\n",
       "\\end{enumerate*}\n"
      ],
      "text/markdown": [
       "1. 'dailyActivity_merged.csv'\n",
       "2. 'heartrate_seconds_merged.csv'\n",
       "3. 'hourlyCalories_merged.csv'\n",
       "4. 'hourlyIntensities_merged.csv'\n",
       "5. 'hourlySteps_merged.csv'\n",
       "6. 'minuteCaloriesNarrow_merged.csv'\n",
       "7. 'minuteIntensitiesNarrow_merged.csv'\n",
       "8. 'minuteMETsNarrow_merged.csv'\n",
       "9. 'minuteSleep_merged.csv'\n",
       "10. 'minuteStepsNarrow_merged.csv'\n",
       "11. 'weightLogInfo_merged.csv'\n",
       "\n",
       "\n"
      ],
      "text/plain": [
       " [1] \"dailyActivity_merged.csv\"           \"heartrate_seconds_merged.csv\"      \n",
       " [3] \"hourlyCalories_merged.csv\"          \"hourlyIntensities_merged.csv\"      \n",
       " [5] \"hourlySteps_merged.csv\"             \"minuteCaloriesNarrow_merged.csv\"   \n",
       " [7] \"minuteIntensitiesNarrow_merged.csv\" \"minuteMETsNarrow_merged.csv\"       \n",
       " [9] \"minuteSleep_merged.csv\"             \"minuteStepsNarrow_merged.csv\"      \n",
       "[11] \"weightLogInfo_merged.csv\"          "
      ]
     },
     "metadata": {},
     "output_type": "display_data"
    },
    {
     "data": {
      "text/html": [
       "<style>\n",
       ".list-inline {list-style: none; margin:0; padding: 0}\n",
       ".list-inline>li {display: inline-block}\n",
       ".list-inline>li:not(:last-child)::after {content: \"\\00b7\"; padding: 0 .5ex}\n",
       "</style>\n",
       "<ol class=list-inline><li>'dailyActivity_merged.csv'</li><li>'dailyCalories_merged.csv'</li><li>'dailyIntensities_merged.csv'</li><li>'dailySteps_merged.csv'</li><li>'heartrate_seconds_merged.csv'</li><li>'hourlyCalories_merged.csv'</li><li>'hourlyIntensities_merged.csv'</li><li>'hourlySteps_merged.csv'</li><li>'minuteCaloriesNarrow_merged.csv'</li><li>'minuteCaloriesWide_merged.csv'</li><li>'minuteIntensitiesNarrow_merged.csv'</li><li>'minuteIntensitiesWide_merged.csv'</li><li>'minuteMETsNarrow_merged.csv'</li><li>'minuteSleep_merged.csv'</li><li>'minuteStepsNarrow_merged.csv'</li><li>'minuteStepsWide_merged.csv'</li><li>'sleepDay_merged.csv'</li><li>'weightLogInfo_merged.csv'</li></ol>\n"
      ],
      "text/latex": [
       "\\begin{enumerate*}\n",
       "\\item 'dailyActivity\\_merged.csv'\n",
       "\\item 'dailyCalories\\_merged.csv'\n",
       "\\item 'dailyIntensities\\_merged.csv'\n",
       "\\item 'dailySteps\\_merged.csv'\n",
       "\\item 'heartrate\\_seconds\\_merged.csv'\n",
       "\\item 'hourlyCalories\\_merged.csv'\n",
       "\\item 'hourlyIntensities\\_merged.csv'\n",
       "\\item 'hourlySteps\\_merged.csv'\n",
       "\\item 'minuteCaloriesNarrow\\_merged.csv'\n",
       "\\item 'minuteCaloriesWide\\_merged.csv'\n",
       "\\item 'minuteIntensitiesNarrow\\_merged.csv'\n",
       "\\item 'minuteIntensitiesWide\\_merged.csv'\n",
       "\\item 'minuteMETsNarrow\\_merged.csv'\n",
       "\\item 'minuteSleep\\_merged.csv'\n",
       "\\item 'minuteStepsNarrow\\_merged.csv'\n",
       "\\item 'minuteStepsWide\\_merged.csv'\n",
       "\\item 'sleepDay\\_merged.csv'\n",
       "\\item 'weightLogInfo\\_merged.csv'\n",
       "\\end{enumerate*}\n"
      ],
      "text/markdown": [
       "1. 'dailyActivity_merged.csv'\n",
       "2. 'dailyCalories_merged.csv'\n",
       "3. 'dailyIntensities_merged.csv'\n",
       "4. 'dailySteps_merged.csv'\n",
       "5. 'heartrate_seconds_merged.csv'\n",
       "6. 'hourlyCalories_merged.csv'\n",
       "7. 'hourlyIntensities_merged.csv'\n",
       "8. 'hourlySteps_merged.csv'\n",
       "9. 'minuteCaloriesNarrow_merged.csv'\n",
       "10. 'minuteCaloriesWide_merged.csv'\n",
       "11. 'minuteIntensitiesNarrow_merged.csv'\n",
       "12. 'minuteIntensitiesWide_merged.csv'\n",
       "13. 'minuteMETsNarrow_merged.csv'\n",
       "14. 'minuteSleep_merged.csv'\n",
       "15. 'minuteStepsNarrow_merged.csv'\n",
       "16. 'minuteStepsWide_merged.csv'\n",
       "17. 'sleepDay_merged.csv'\n",
       "18. 'weightLogInfo_merged.csv'\n",
       "\n",
       "\n"
      ],
      "text/plain": [
       " [1] \"dailyActivity_merged.csv\"           \"dailyCalories_merged.csv\"          \n",
       " [3] \"dailyIntensities_merged.csv\"        \"dailySteps_merged.csv\"             \n",
       " [5] \"heartrate_seconds_merged.csv\"       \"hourlyCalories_merged.csv\"         \n",
       " [7] \"hourlyIntensities_merged.csv\"       \"hourlySteps_merged.csv\"            \n",
       " [9] \"minuteCaloriesNarrow_merged.csv\"    \"minuteCaloriesWide_merged.csv\"     \n",
       "[11] \"minuteIntensitiesNarrow_merged.csv\" \"minuteIntensitiesWide_merged.csv\"  \n",
       "[13] \"minuteMETsNarrow_merged.csv\"        \"minuteSleep_merged.csv\"            \n",
       "[15] \"minuteStepsNarrow_merged.csv\"       \"minuteStepsWide_merged.csv\"        \n",
       "[17] \"sleepDay_merged.csv\"                \"weightLogInfo_merged.csv\"          "
      ]
     },
     "metadata": {},
     "output_type": "display_data"
    }
   ],
   "source": [
    "  # Klasördeki dosyaları listele\n",
    "list.files(\"C:/Users/hp/Documents/mturkfitbit_export_3.12.16-4.11.16/Fitabase Data 3.12.16-4.11.16\")\n",
    "list.files(\"C:/Users/hp/Documents/mturkfitbit_export_4.12.16-5.12.16/Fitabase Data 4.12.16-5.12.16\")"
   ]
  },
  {
   "cell_type": "code",
   "execution_count": 9,
   "id": "419296a2-a87f-4b0b-b53f-75b4aa1b38f0",
   "metadata": {},
   "outputs": [
    {
     "name": "stderr",
     "output_type": "stream",
     "text": [
      "\u001b[1mRows: \u001b[22m\u001b[34m457\u001b[39m \u001b[1mColumns: \u001b[22m\u001b[34m15\u001b[39m\n",
      "\u001b[36m──\u001b[39m \u001b[1mColumn specification\u001b[22m \u001b[36m────────────────────────────────────────────────────────────────────────────────────────────────\u001b[39m\n",
      "\u001b[1mDelimiter:\u001b[22m \",\"\n",
      "\u001b[31mchr\u001b[39m  (1): ActivityDate\n",
      "\u001b[32mdbl\u001b[39m (14): Id, TotalSteps, TotalDistance, TrackerDistance, LoggedActivitiesDi...\n",
      "\n",
      "\u001b[36mℹ\u001b[39m Use `spec()` to retrieve the full column specification for this data.\n",
      "\u001b[36mℹ\u001b[39m Specify the column types or set `show_col_types = FALSE` to quiet this message.\n",
      "\u001b[1mRows: \u001b[22m\u001b[34m940\u001b[39m \u001b[1mColumns: \u001b[22m\u001b[34m15\u001b[39m\n",
      "\u001b[36m──\u001b[39m \u001b[1mColumn specification\u001b[22m \u001b[36m────────────────────────────────────────────────────────────────────────────────────────────────\u001b[39m\n",
      "\u001b[1mDelimiter:\u001b[22m \",\"\n",
      "\u001b[31mchr\u001b[39m  (1): ActivityDate\n",
      "\u001b[32mdbl\u001b[39m (14): Id, TotalSteps, TotalDistance, TrackerDistance, LoggedActivitiesDi...\n",
      "\n",
      "\u001b[36mℹ\u001b[39m Use `spec()` to retrieve the full column specification for this data.\n",
      "\u001b[36mℹ\u001b[39m Specify the column types or set `show_col_types = FALSE` to quiet this message.\n"
     ]
    },
    {
     "data": {
      "text/html": [
       "<style>\n",
       ".list-inline {list-style: none; margin:0; padding: 0}\n",
       ".list-inline>li {display: inline-block}\n",
       ".list-inline>li:not(:last-child)::after {content: \"\\00b7\"; padding: 0 .5ex}\n",
       "</style>\n",
       "<ol class=list-inline><li>'Id'</li><li>'ActivityDate'</li><li>'TotalSteps'</li><li>'TotalDistance'</li><li>'TrackerDistance'</li><li>'LoggedActivitiesDistance'</li><li>'VeryActiveDistance'</li><li>'ModeratelyActiveDistance'</li><li>'LightActiveDistance'</li><li>'SedentaryActiveDistance'</li><li>'VeryActiveMinutes'</li><li>'FairlyActiveMinutes'</li><li>'LightlyActiveMinutes'</li><li>'SedentaryMinutes'</li><li>'Calories'</li></ol>\n"
      ],
      "text/latex": [
       "\\begin{enumerate*}\n",
       "\\item 'Id'\n",
       "\\item 'ActivityDate'\n",
       "\\item 'TotalSteps'\n",
       "\\item 'TotalDistance'\n",
       "\\item 'TrackerDistance'\n",
       "\\item 'LoggedActivitiesDistance'\n",
       "\\item 'VeryActiveDistance'\n",
       "\\item 'ModeratelyActiveDistance'\n",
       "\\item 'LightActiveDistance'\n",
       "\\item 'SedentaryActiveDistance'\n",
       "\\item 'VeryActiveMinutes'\n",
       "\\item 'FairlyActiveMinutes'\n",
       "\\item 'LightlyActiveMinutes'\n",
       "\\item 'SedentaryMinutes'\n",
       "\\item 'Calories'\n",
       "\\end{enumerate*}\n"
      ],
      "text/markdown": [
       "1. 'Id'\n",
       "2. 'ActivityDate'\n",
       "3. 'TotalSteps'\n",
       "4. 'TotalDistance'\n",
       "5. 'TrackerDistance'\n",
       "6. 'LoggedActivitiesDistance'\n",
       "7. 'VeryActiveDistance'\n",
       "8. 'ModeratelyActiveDistance'\n",
       "9. 'LightActiveDistance'\n",
       "10. 'SedentaryActiveDistance'\n",
       "11. 'VeryActiveMinutes'\n",
       "12. 'FairlyActiveMinutes'\n",
       "13. 'LightlyActiveMinutes'\n",
       "14. 'SedentaryMinutes'\n",
       "15. 'Calories'\n",
       "\n",
       "\n"
      ],
      "text/plain": [
       " [1] \"Id\"                       \"ActivityDate\"            \n",
       " [3] \"TotalSteps\"               \"TotalDistance\"           \n",
       " [5] \"TrackerDistance\"          \"LoggedActivitiesDistance\"\n",
       " [7] \"VeryActiveDistance\"       \"ModeratelyActiveDistance\"\n",
       " [9] \"LightActiveDistance\"      \"SedentaryActiveDistance\" \n",
       "[11] \"VeryActiveMinutes\"        \"FairlyActiveMinutes\"     \n",
       "[13] \"LightlyActiveMinutes\"     \"SedentaryMinutes\"        \n",
       "[15] \"Calories\"                "
      ]
     },
     "metadata": {},
     "output_type": "display_data"
    },
    {
     "data": {
      "text/html": [
       "<style>\n",
       ".list-inline {list-style: none; margin:0; padding: 0}\n",
       ".list-inline>li {display: inline-block}\n",
       ".list-inline>li:not(:last-child)::after {content: \"\\00b7\"; padding: 0 .5ex}\n",
       "</style>\n",
       "<ol class=list-inline><li>'Id'</li><li>'ActivityDate'</li><li>'TotalSteps'</li><li>'TotalDistance'</li><li>'TrackerDistance'</li><li>'LoggedActivitiesDistance'</li><li>'VeryActiveDistance'</li><li>'ModeratelyActiveDistance'</li><li>'LightActiveDistance'</li><li>'SedentaryActiveDistance'</li><li>'VeryActiveMinutes'</li><li>'FairlyActiveMinutes'</li><li>'LightlyActiveMinutes'</li><li>'SedentaryMinutes'</li><li>'Calories'</li></ol>\n"
      ],
      "text/latex": [
       "\\begin{enumerate*}\n",
       "\\item 'Id'\n",
       "\\item 'ActivityDate'\n",
       "\\item 'TotalSteps'\n",
       "\\item 'TotalDistance'\n",
       "\\item 'TrackerDistance'\n",
       "\\item 'LoggedActivitiesDistance'\n",
       "\\item 'VeryActiveDistance'\n",
       "\\item 'ModeratelyActiveDistance'\n",
       "\\item 'LightActiveDistance'\n",
       "\\item 'SedentaryActiveDistance'\n",
       "\\item 'VeryActiveMinutes'\n",
       "\\item 'FairlyActiveMinutes'\n",
       "\\item 'LightlyActiveMinutes'\n",
       "\\item 'SedentaryMinutes'\n",
       "\\item 'Calories'\n",
       "\\end{enumerate*}\n"
      ],
      "text/markdown": [
       "1. 'Id'\n",
       "2. 'ActivityDate'\n",
       "3. 'TotalSteps'\n",
       "4. 'TotalDistance'\n",
       "5. 'TrackerDistance'\n",
       "6. 'LoggedActivitiesDistance'\n",
       "7. 'VeryActiveDistance'\n",
       "8. 'ModeratelyActiveDistance'\n",
       "9. 'LightActiveDistance'\n",
       "10. 'SedentaryActiveDistance'\n",
       "11. 'VeryActiveMinutes'\n",
       "12. 'FairlyActiveMinutes'\n",
       "13. 'LightlyActiveMinutes'\n",
       "14. 'SedentaryMinutes'\n",
       "15. 'Calories'\n",
       "\n",
       "\n"
      ],
      "text/plain": [
       " [1] \"Id\"                       \"ActivityDate\"            \n",
       " [3] \"TotalSteps\"               \"TotalDistance\"           \n",
       " [5] \"TrackerDistance\"          \"LoggedActivitiesDistance\"\n",
       " [7] \"VeryActiveDistance\"       \"ModeratelyActiveDistance\"\n",
       " [9] \"LightActiveDistance\"      \"SedentaryActiveDistance\" \n",
       "[11] \"VeryActiveMinutes\"        \"FairlyActiveMinutes\"     \n",
       "[13] \"LightlyActiveMinutes\"     \"SedentaryMinutes\"        \n",
       "[15] \"Calories\"                "
      ]
     },
     "metadata": {},
     "output_type": "display_data"
    },
    {
     "data": {
      "text/html": [
       "'3/12/2016'"
      ],
      "text/latex": [
       "'3/12/2016'"
      ],
      "text/markdown": [
       "'3/12/2016'"
      ],
      "text/plain": [
       "[1] \"3/12/2016\""
      ]
     },
     "metadata": {},
     "output_type": "display_data"
    },
    {
     "data": {
      "text/html": [
       "'4/9/2016'"
      ],
      "text/latex": [
       "'4/9/2016'"
      ],
      "text/markdown": [
       "'4/9/2016'"
      ],
      "text/plain": [
       "[1] \"4/9/2016\""
      ]
     },
     "metadata": {},
     "output_type": "display_data"
    },
    {
     "data": {
      "text/html": [
       "'4/12/2016'"
      ],
      "text/latex": [
       "'4/12/2016'"
      ],
      "text/markdown": [
       "'4/12/2016'"
      ],
      "text/plain": [
       "[1] \"4/12/2016\""
      ]
     },
     "metadata": {},
     "output_type": "display_data"
    },
    {
     "data": {
      "text/html": [
       "'5/9/2016'"
      ],
      "text/latex": [
       "'5/9/2016'"
      ],
      "text/markdown": [
       "'5/9/2016'"
      ],
      "text/plain": [
       "[1] \"5/9/2016\""
      ]
     },
     "metadata": {},
     "output_type": "display_data"
    }
   ],
   "source": [
    "df1 <- read_csv(\"C:/Users/hp/Documents/mturkfitbit_export_3.12.16-4.11.16/Fitabase Data 3.12.16-4.11.16/dailyActivity_merged.csv\")\n",
    "df2 <- read_csv(\"C:/Users/hp/Documents/mturkfitbit_export_4.12.16-5.12.16/Fitabase Data 4.12.16-5.12.16/dailyActivity_merged.csv\")  # Diğer klasördeki aynı dosya varsa\n",
    "\n",
    "# Tarih sütunlarının ismini bulmak için\n",
    "colnames(df1)\n",
    "colnames(df2)\n",
    "\n",
    "# Başlangıç ve bitiş tarihlerini incele\n",
    "min(df1$ActivityDate)\n",
    "max(df1$ActivityDate)\n",
    "\n",
    "min(df2$ActivityDate)\n",
    "max(df2$ActivityDate)\n"
   ]
  },
  {
   "cell_type": "code",
   "execution_count": 10,
   "id": "aa6cab98-a758-41fa-b49a-ae1e7d98de8c",
   "metadata": {},
   "outputs": [
    {
     "name": "stderr",
     "output_type": "stream",
     "text": [
      "\u001b[1mRows: \u001b[22m\u001b[34m198559\u001b[39m \u001b[1mColumns: \u001b[22m\u001b[34m4\u001b[39m\n",
      "\u001b[36m──\u001b[39m \u001b[1mColumn specification\u001b[22m \u001b[36m────────────────────────────────────────────────────────────────────────────────────────────────\u001b[39m\n",
      "\u001b[1mDelimiter:\u001b[22m \",\"\n",
      "\u001b[31mchr\u001b[39m (1): date\n",
      "\u001b[32mdbl\u001b[39m (3): Id, value, logId\n",
      "\n",
      "\u001b[36mℹ\u001b[39m Use `spec()` to retrieve the full column specification for this data.\n",
      "\u001b[36mℹ\u001b[39m Specify the column types or set `show_col_types = FALSE` to quiet this message.\n",
      "\u001b[1mRows: \u001b[22m\u001b[34m188521\u001b[39m \u001b[1mColumns: \u001b[22m\u001b[34m4\u001b[39m\n",
      "\u001b[36m──\u001b[39m \u001b[1mColumn specification\u001b[22m \u001b[36m────────────────────────────────────────────────────────────────────────────────────────────────\u001b[39m\n",
      "\u001b[1mDelimiter:\u001b[22m \",\"\n",
      "\u001b[31mchr\u001b[39m (1): date\n",
      "\u001b[32mdbl\u001b[39m (3): Id, value, logId\n",
      "\n",
      "\u001b[36mℹ\u001b[39m Use `spec()` to retrieve the full column specification for this data.\n",
      "\u001b[36mℹ\u001b[39m Specify the column types or set `show_col_types = FALSE` to quiet this message.\n"
     ]
    },
    {
     "data": {
      "text/html": [
       "<style>\n",
       ".list-inline {list-style: none; margin:0; padding: 0}\n",
       ".list-inline>li {display: inline-block}\n",
       ".list-inline>li:not(:last-child)::after {content: \"\\00b7\"; padding: 0 .5ex}\n",
       "</style>\n",
       "<ol class=list-inline><li>'Id'</li><li>'date'</li><li>'value'</li><li>'logId'</li></ol>\n"
      ],
      "text/latex": [
       "\\begin{enumerate*}\n",
       "\\item 'Id'\n",
       "\\item 'date'\n",
       "\\item 'value'\n",
       "\\item 'logId'\n",
       "\\end{enumerate*}\n"
      ],
      "text/markdown": [
       "1. 'Id'\n",
       "2. 'date'\n",
       "3. 'value'\n",
       "4. 'logId'\n",
       "\n",
       "\n"
      ],
      "text/plain": [
       "[1] \"Id\"    \"date\"  \"value\" \"logId\""
      ]
     },
     "metadata": {},
     "output_type": "display_data"
    },
    {
     "data": {
      "text/html": [
       "<style>\n",
       ".list-inline {list-style: none; margin:0; padding: 0}\n",
       ".list-inline>li {display: inline-block}\n",
       ".list-inline>li:not(:last-child)::after {content: \"\\00b7\"; padding: 0 .5ex}\n",
       "</style>\n",
       "<ol class=list-inline><li>'Id'</li><li>'date'</li><li>'value'</li><li>'logId'</li></ol>\n"
      ],
      "text/latex": [
       "\\begin{enumerate*}\n",
       "\\item 'Id'\n",
       "\\item 'date'\n",
       "\\item 'value'\n",
       "\\item 'logId'\n",
       "\\end{enumerate*}\n"
      ],
      "text/markdown": [
       "1. 'Id'\n",
       "2. 'date'\n",
       "3. 'value'\n",
       "4. 'logId'\n",
       "\n",
       "\n"
      ],
      "text/plain": [
       "[1] \"Id\"    \"date\"  \"value\" \"logId\""
      ]
     },
     "metadata": {},
     "output_type": "display_data"
    },
    {
     "name": "stderr",
     "output_type": "stream",
     "text": [
      "Warning message:\n",
      "\"Unknown or uninitialised column: `ActivityDate`.\"\n",
      "Warning message in min(df1$ActivityDate):\n",
      "\"no non-missing arguments to min; returning Inf\"\n"
     ]
    },
    {
     "data": {
      "text/html": [
       "Inf"
      ],
      "text/latex": [
       "Inf"
      ],
      "text/markdown": [
       "Inf"
      ],
      "text/plain": [
       "[1] Inf"
      ]
     },
     "metadata": {},
     "output_type": "display_data"
    },
    {
     "name": "stderr",
     "output_type": "stream",
     "text": [
      "Warning message:\n",
      "\"Unknown or uninitialised column: `ActivityDate`.\"\n",
      "Warning message in max(df1$ActivityDate):\n",
      "\"no non-missing arguments to max; returning -Inf\"\n"
     ]
    },
    {
     "data": {
      "text/html": [
       "-Inf"
      ],
      "text/latex": [
       "-Inf"
      ],
      "text/markdown": [
       "-Inf"
      ],
      "text/plain": [
       "[1] -Inf"
      ]
     },
     "metadata": {},
     "output_type": "display_data"
    },
    {
     "name": "stderr",
     "output_type": "stream",
     "text": [
      "Warning message:\n",
      "\"Unknown or uninitialised column: `ActivityDate`.\"\n",
      "Warning message in min(df2$ActivityDate):\n",
      "\"no non-missing arguments to min; returning Inf\"\n"
     ]
    },
    {
     "data": {
      "text/html": [
       "Inf"
      ],
      "text/latex": [
       "Inf"
      ],
      "text/markdown": [
       "Inf"
      ],
      "text/plain": [
       "[1] Inf"
      ]
     },
     "metadata": {},
     "output_type": "display_data"
    },
    {
     "name": "stderr",
     "output_type": "stream",
     "text": [
      "Warning message:\n",
      "\"Unknown or uninitialised column: `ActivityDate`.\"\n",
      "Warning message in max(df2$ActivityDate):\n",
      "\"no non-missing arguments to max; returning -Inf\"\n"
     ]
    },
    {
     "data": {
      "text/html": [
       "-Inf"
      ],
      "text/latex": [
       "-Inf"
      ],
      "text/markdown": [
       "-Inf"
      ],
      "text/plain": [
       "[1] -Inf"
      ]
     },
     "metadata": {},
     "output_type": "display_data"
    }
   ],
   "source": [
    "df1 <- read_csv(\"C:/Users/hp/Documents/mturkfitbit_export_3.12.16-4.11.16/Fitabase Data 3.12.16-4.11.16/minuteSleep_merged.csv\")\n",
    "df2 <- read_csv(\"C:/Users/hp/Documents/mturkfitbit_export_4.12.16-5.12.16/Fitabase Data 4.12.16-5.12.16/minuteSleep_merged.csv\")  # Diğer klasördeki aynı dosya varsa\n",
    "\n",
    "# Tarih sütunlarının ismini bulmak için\n",
    "colnames(df1)\n",
    "colnames(df2)\n",
    "\n",
    "# Başlangıç ve bitiş tarihlerini incele\n",
    "min(df1$ActivityDate)\n",
    "max(df1$ActivityDate)\n",
    "\n",
    "min(df2$ActivityDate)\n",
    "max(df2$ActivityDate)"
   ]
  },
  {
   "cell_type": "code",
   "execution_count": 11,
   "id": "25b19ab3-0fa4-4a6c-b7d3-c815e01a4063",
   "metadata": {},
   "outputs": [
    {
     "data": {
      "text/html": [
       "<style>\n",
       ".list-inline {list-style: none; margin:0; padding: 0}\n",
       ".list-inline>li {display: inline-block}\n",
       ".list-inline>li:not(:last-child)::after {content: \"\\00b7\"; padding: 0 .5ex}\n",
       "</style>\n",
       "<ol class=list-inline><li>'dailyActivity_merged.csv'</li><li>'dailyCalories_merged.csv'</li><li>'dailyIntensities_merged.csv'</li><li>'dailySteps_merged.csv'</li><li>'heartrate_seconds_merged.csv'</li><li>'hourlyCalories_merged.csv'</li><li>'hourlyIntensities_merged.csv'</li><li>'hourlySteps_merged.csv'</li><li>'minuteCaloriesNarrow_merged.csv'</li><li>'minuteCaloriesWide_merged.csv'</li><li>'minuteIntensitiesNarrow_merged.csv'</li><li>'minuteIntensitiesWide_merged.csv'</li><li>'minuteMETsNarrow_merged.csv'</li><li>'minuteSleep_merged.csv'</li><li>'minuteStepsNarrow_merged.csv'</li><li>'minuteStepsWide_merged.csv'</li><li>'sleepDay_merged.csv'</li><li>'weightLogInfo_merged.csv'</li></ol>\n"
      ],
      "text/latex": [
       "\\begin{enumerate*}\n",
       "\\item 'dailyActivity\\_merged.csv'\n",
       "\\item 'dailyCalories\\_merged.csv'\n",
       "\\item 'dailyIntensities\\_merged.csv'\n",
       "\\item 'dailySteps\\_merged.csv'\n",
       "\\item 'heartrate\\_seconds\\_merged.csv'\n",
       "\\item 'hourlyCalories\\_merged.csv'\n",
       "\\item 'hourlyIntensities\\_merged.csv'\n",
       "\\item 'hourlySteps\\_merged.csv'\n",
       "\\item 'minuteCaloriesNarrow\\_merged.csv'\n",
       "\\item 'minuteCaloriesWide\\_merged.csv'\n",
       "\\item 'minuteIntensitiesNarrow\\_merged.csv'\n",
       "\\item 'minuteIntensitiesWide\\_merged.csv'\n",
       "\\item 'minuteMETsNarrow\\_merged.csv'\n",
       "\\item 'minuteSleep\\_merged.csv'\n",
       "\\item 'minuteStepsNarrow\\_merged.csv'\n",
       "\\item 'minuteStepsWide\\_merged.csv'\n",
       "\\item 'sleepDay\\_merged.csv'\n",
       "\\item 'weightLogInfo\\_merged.csv'\n",
       "\\end{enumerate*}\n"
      ],
      "text/markdown": [
       "1. 'dailyActivity_merged.csv'\n",
       "2. 'dailyCalories_merged.csv'\n",
       "3. 'dailyIntensities_merged.csv'\n",
       "4. 'dailySteps_merged.csv'\n",
       "5. 'heartrate_seconds_merged.csv'\n",
       "6. 'hourlyCalories_merged.csv'\n",
       "7. 'hourlyIntensities_merged.csv'\n",
       "8. 'hourlySteps_merged.csv'\n",
       "9. 'minuteCaloriesNarrow_merged.csv'\n",
       "10. 'minuteCaloriesWide_merged.csv'\n",
       "11. 'minuteIntensitiesNarrow_merged.csv'\n",
       "12. 'minuteIntensitiesWide_merged.csv'\n",
       "13. 'minuteMETsNarrow_merged.csv'\n",
       "14. 'minuteSleep_merged.csv'\n",
       "15. 'minuteStepsNarrow_merged.csv'\n",
       "16. 'minuteStepsWide_merged.csv'\n",
       "17. 'sleepDay_merged.csv'\n",
       "18. 'weightLogInfo_merged.csv'\n",
       "\n",
       "\n"
      ],
      "text/plain": [
       " [1] \"dailyActivity_merged.csv\"           \"dailyCalories_merged.csv\"          \n",
       " [3] \"dailyIntensities_merged.csv\"        \"dailySteps_merged.csv\"             \n",
       " [5] \"heartrate_seconds_merged.csv\"       \"hourlyCalories_merged.csv\"         \n",
       " [7] \"hourlyIntensities_merged.csv\"       \"hourlySteps_merged.csv\"            \n",
       " [9] \"minuteCaloriesNarrow_merged.csv\"    \"minuteCaloriesWide_merged.csv\"     \n",
       "[11] \"minuteIntensitiesNarrow_merged.csv\" \"minuteIntensitiesWide_merged.csv\"  \n",
       "[13] \"minuteMETsNarrow_merged.csv\"        \"minuteSleep_merged.csv\"            \n",
       "[15] \"minuteStepsNarrow_merged.csv\"       \"minuteStepsWide_merged.csv\"        \n",
       "[17] \"sleepDay_merged.csv\"                \"weightLogInfo_merged.csv\"          "
      ]
     },
     "metadata": {},
     "output_type": "display_data"
    }
   ],
   "source": [
    "# 2. klasördeki tüm CSV dosyalarını listeleyelim\n",
    "list.files(\"C:/Users/hp/Documents/mturkfitbit_export_4.12.16-5.12.16/Fitabase Data 4.12.16-5.12.16\")\n"
   ]
  },
  {
   "cell_type": "code",
   "execution_count": 12,
   "id": "b30abbed-d089-4cdb-b65a-a0992d060e06",
   "metadata": {},
   "outputs": [
    {
     "name": "stderr",
     "output_type": "stream",
     "text": [
      "\u001b[1mRows: \u001b[22m\u001b[34m940\u001b[39m \u001b[1mColumns: \u001b[22m\u001b[34m15\u001b[39m\n",
      "\u001b[36m──\u001b[39m \u001b[1mColumn specification\u001b[22m \u001b[36m────────────────────────────────────────────────────────────────────────────────────────────────\u001b[39m\n",
      "\u001b[1mDelimiter:\u001b[22m \",\"\n",
      "\u001b[31mchr\u001b[39m  (1): ActivityDate\n",
      "\u001b[32mdbl\u001b[39m (14): Id, TotalSteps, TotalDistance, TrackerDistance, LoggedActivitiesDi...\n",
      "\n",
      "\u001b[36mℹ\u001b[39m Use `spec()` to retrieve the full column specification for this data.\n",
      "\u001b[36mℹ\u001b[39m Specify the column types or set `show_col_types = FALSE` to quiet this message.\n",
      "\u001b[1mRows: \u001b[22m\u001b[34m413\u001b[39m \u001b[1mColumns: \u001b[22m\u001b[34m5\u001b[39m\n",
      "\u001b[36m──\u001b[39m \u001b[1mColumn specification\u001b[22m \u001b[36m────────────────────────────────────────────────────────────────────────────────────────────────\u001b[39m\n",
      "\u001b[1mDelimiter:\u001b[22m \",\"\n",
      "\u001b[31mchr\u001b[39m (1): SleepDay\n",
      "\u001b[32mdbl\u001b[39m (4): Id, TotalSleepRecords, TotalMinutesAsleep, TotalTimeInBed\n",
      "\n",
      "\u001b[36mℹ\u001b[39m Use `spec()` to retrieve the full column specification for this data.\n",
      "\u001b[36mℹ\u001b[39m Specify the column types or set `show_col_types = FALSE` to quiet this message.\n",
      "\u001b[1mRows: \u001b[22m\u001b[34m2483658\u001b[39m \u001b[1mColumns: \u001b[22m\u001b[34m3\u001b[39m\n",
      "\u001b[36m──\u001b[39m \u001b[1mColumn specification\u001b[22m \u001b[36m────────────────────────────────────────────────────────────────────────────────────────────────\u001b[39m\n",
      "\u001b[1mDelimiter:\u001b[22m \",\"\n",
      "\u001b[31mchr\u001b[39m (1): Time\n",
      "\u001b[32mdbl\u001b[39m (2): Id, Value\n",
      "\n",
      "\u001b[36mℹ\u001b[39m Use `spec()` to retrieve the full column specification for this data.\n",
      "\u001b[36mℹ\u001b[39m Specify the column types or set `show_col_types = FALSE` to quiet this message.\n",
      "\u001b[1mRows: \u001b[22m\u001b[34m22099\u001b[39m \u001b[1mColumns: \u001b[22m\u001b[34m3\u001b[39m\n",
      "\u001b[36m──\u001b[39m \u001b[1mColumn specification\u001b[22m \u001b[36m────────────────────────────────────────────────────────────────────────────────────────────────\u001b[39m\n",
      "\u001b[1mDelimiter:\u001b[22m \",\"\n",
      "\u001b[31mchr\u001b[39m (1): ActivityHour\n",
      "\u001b[32mdbl\u001b[39m (2): Id, StepTotal\n",
      "\n",
      "\u001b[36mℹ\u001b[39m Use `spec()` to retrieve the full column specification for this data.\n",
      "\u001b[36mℹ\u001b[39m Specify the column types or set `show_col_types = FALSE` to quiet this message.\n",
      "\u001b[1mRows: \u001b[22m\u001b[34m67\u001b[39m \u001b[1mColumns: \u001b[22m\u001b[34m8\u001b[39m\n",
      "\u001b[36m──\u001b[39m \u001b[1mColumn specification\u001b[22m \u001b[36m────────────────────────────────────────────────────────────────────────────────────────────────\u001b[39m\n",
      "\u001b[1mDelimiter:\u001b[22m \",\"\n",
      "\u001b[31mchr\u001b[39m (1): Date\n",
      "\u001b[32mdbl\u001b[39m (6): Id, WeightKg, WeightPounds, Fat, BMI, LogId\n",
      "\u001b[33mlgl\u001b[39m (1): IsManualReport\n",
      "\n",
      "\u001b[36mℹ\u001b[39m Use `spec()` to retrieve the full column specification for this data.\n",
      "\u001b[36mℹ\u001b[39m Specify the column types or set `show_col_types = FALSE` to quiet this message.\n",
      "\u001b[1mRows: \u001b[22m\u001b[34m22099\u001b[39m \u001b[1mColumns: \u001b[22m\u001b[34m4\u001b[39m\n",
      "\u001b[36m──\u001b[39m \u001b[1mColumn specification\u001b[22m \u001b[36m────────────────────────────────────────────────────────────────────────────────────────────────\u001b[39m\n",
      "\u001b[1mDelimiter:\u001b[22m \",\"\n",
      "\u001b[31mchr\u001b[39m (1): ActivityHour\n",
      "\u001b[32mdbl\u001b[39m (3): Id, TotalIntensity, AverageIntensity\n",
      "\n",
      "\u001b[36mℹ\u001b[39m Use `spec()` to retrieve the full column specification for this data.\n",
      "\u001b[36mℹ\u001b[39m Specify the column types or set `show_col_types = FALSE` to quiet this message.\n"
     ]
    },
    {
     "data": {
      "text/html": [
       "<table class=\"dataframe\">\n",
       "<caption>A tibble: 6 × 15</caption>\n",
       "<thead>\n",
       "\t<tr><th scope=col>Id</th><th scope=col>ActivityDate</th><th scope=col>TotalSteps</th><th scope=col>TotalDistance</th><th scope=col>TrackerDistance</th><th scope=col>LoggedActivitiesDistance</th><th scope=col>VeryActiveDistance</th><th scope=col>ModeratelyActiveDistance</th><th scope=col>LightActiveDistance</th><th scope=col>SedentaryActiveDistance</th><th scope=col>VeryActiveMinutes</th><th scope=col>FairlyActiveMinutes</th><th scope=col>LightlyActiveMinutes</th><th scope=col>SedentaryMinutes</th><th scope=col>Calories</th></tr>\n",
       "\t<tr><th scope=col>&lt;dbl&gt;</th><th scope=col>&lt;chr&gt;</th><th scope=col>&lt;dbl&gt;</th><th scope=col>&lt;dbl&gt;</th><th scope=col>&lt;dbl&gt;</th><th scope=col>&lt;dbl&gt;</th><th scope=col>&lt;dbl&gt;</th><th scope=col>&lt;dbl&gt;</th><th scope=col>&lt;dbl&gt;</th><th scope=col>&lt;dbl&gt;</th><th scope=col>&lt;dbl&gt;</th><th scope=col>&lt;dbl&gt;</th><th scope=col>&lt;dbl&gt;</th><th scope=col>&lt;dbl&gt;</th><th scope=col>&lt;dbl&gt;</th></tr>\n",
       "</thead>\n",
       "<tbody>\n",
       "\t<tr><td>1503960366</td><td>4/12/2016</td><td>13162</td><td>8.50</td><td>8.50</td><td>0</td><td>1.88</td><td>0.55</td><td>6.06</td><td>0</td><td>25</td><td>13</td><td>328</td><td> 728</td><td>1985</td></tr>\n",
       "\t<tr><td>1503960366</td><td>4/13/2016</td><td>10735</td><td>6.97</td><td>6.97</td><td>0</td><td>1.57</td><td>0.69</td><td>4.71</td><td>0</td><td>21</td><td>19</td><td>217</td><td> 776</td><td>1797</td></tr>\n",
       "\t<tr><td>1503960366</td><td>4/14/2016</td><td>10460</td><td>6.74</td><td>6.74</td><td>0</td><td>2.44</td><td>0.40</td><td>3.91</td><td>0</td><td>30</td><td>11</td><td>181</td><td>1218</td><td>1776</td></tr>\n",
       "\t<tr><td>1503960366</td><td>4/15/2016</td><td> 9762</td><td>6.28</td><td>6.28</td><td>0</td><td>2.14</td><td>1.26</td><td>2.83</td><td>0</td><td>29</td><td>34</td><td>209</td><td> 726</td><td>1745</td></tr>\n",
       "\t<tr><td>1503960366</td><td>4/16/2016</td><td>12669</td><td>8.16</td><td>8.16</td><td>0</td><td>2.71</td><td>0.41</td><td>5.04</td><td>0</td><td>36</td><td>10</td><td>221</td><td> 773</td><td>1863</td></tr>\n",
       "\t<tr><td>1503960366</td><td>4/17/2016</td><td> 9705</td><td>6.48</td><td>6.48</td><td>0</td><td>3.19</td><td>0.78</td><td>2.51</td><td>0</td><td>38</td><td>20</td><td>164</td><td> 539</td><td>1728</td></tr>\n",
       "</tbody>\n",
       "</table>\n"
      ],
      "text/latex": [
       "A tibble: 6 × 15\n",
       "\\begin{tabular}{lllllllllllllll}\n",
       " Id & ActivityDate & TotalSteps & TotalDistance & TrackerDistance & LoggedActivitiesDistance & VeryActiveDistance & ModeratelyActiveDistance & LightActiveDistance & SedentaryActiveDistance & VeryActiveMinutes & FairlyActiveMinutes & LightlyActiveMinutes & SedentaryMinutes & Calories\\\\\n",
       " <dbl> & <chr> & <dbl> & <dbl> & <dbl> & <dbl> & <dbl> & <dbl> & <dbl> & <dbl> & <dbl> & <dbl> & <dbl> & <dbl> & <dbl>\\\\\n",
       "\\hline\n",
       "\t 1503960366 & 4/12/2016 & 13162 & 8.50 & 8.50 & 0 & 1.88 & 0.55 & 6.06 & 0 & 25 & 13 & 328 &  728 & 1985\\\\\n",
       "\t 1503960366 & 4/13/2016 & 10735 & 6.97 & 6.97 & 0 & 1.57 & 0.69 & 4.71 & 0 & 21 & 19 & 217 &  776 & 1797\\\\\n",
       "\t 1503960366 & 4/14/2016 & 10460 & 6.74 & 6.74 & 0 & 2.44 & 0.40 & 3.91 & 0 & 30 & 11 & 181 & 1218 & 1776\\\\\n",
       "\t 1503960366 & 4/15/2016 &  9762 & 6.28 & 6.28 & 0 & 2.14 & 1.26 & 2.83 & 0 & 29 & 34 & 209 &  726 & 1745\\\\\n",
       "\t 1503960366 & 4/16/2016 & 12669 & 8.16 & 8.16 & 0 & 2.71 & 0.41 & 5.04 & 0 & 36 & 10 & 221 &  773 & 1863\\\\\n",
       "\t 1503960366 & 4/17/2016 &  9705 & 6.48 & 6.48 & 0 & 3.19 & 0.78 & 2.51 & 0 & 38 & 20 & 164 &  539 & 1728\\\\\n",
       "\\end{tabular}\n"
      ],
      "text/markdown": [
       "\n",
       "A tibble: 6 × 15\n",
       "\n",
       "| Id &lt;dbl&gt; | ActivityDate &lt;chr&gt; | TotalSteps &lt;dbl&gt; | TotalDistance &lt;dbl&gt; | TrackerDistance &lt;dbl&gt; | LoggedActivitiesDistance &lt;dbl&gt; | VeryActiveDistance &lt;dbl&gt; | ModeratelyActiveDistance &lt;dbl&gt; | LightActiveDistance &lt;dbl&gt; | SedentaryActiveDistance &lt;dbl&gt; | VeryActiveMinutes &lt;dbl&gt; | FairlyActiveMinutes &lt;dbl&gt; | LightlyActiveMinutes &lt;dbl&gt; | SedentaryMinutes &lt;dbl&gt; | Calories &lt;dbl&gt; |\n",
       "|---|---|---|---|---|---|---|---|---|---|---|---|---|---|---|\n",
       "| 1503960366 | 4/12/2016 | 13162 | 8.50 | 8.50 | 0 | 1.88 | 0.55 | 6.06 | 0 | 25 | 13 | 328 |  728 | 1985 |\n",
       "| 1503960366 | 4/13/2016 | 10735 | 6.97 | 6.97 | 0 | 1.57 | 0.69 | 4.71 | 0 | 21 | 19 | 217 |  776 | 1797 |\n",
       "| 1503960366 | 4/14/2016 | 10460 | 6.74 | 6.74 | 0 | 2.44 | 0.40 | 3.91 | 0 | 30 | 11 | 181 | 1218 | 1776 |\n",
       "| 1503960366 | 4/15/2016 |  9762 | 6.28 | 6.28 | 0 | 2.14 | 1.26 | 2.83 | 0 | 29 | 34 | 209 |  726 | 1745 |\n",
       "| 1503960366 | 4/16/2016 | 12669 | 8.16 | 8.16 | 0 | 2.71 | 0.41 | 5.04 | 0 | 36 | 10 | 221 |  773 | 1863 |\n",
       "| 1503960366 | 4/17/2016 |  9705 | 6.48 | 6.48 | 0 | 3.19 | 0.78 | 2.51 | 0 | 38 | 20 | 164 |  539 | 1728 |\n",
       "\n"
      ],
      "text/plain": [
       "  Id         ActivityDate TotalSteps TotalDistance TrackerDistance\n",
       "1 1503960366 4/12/2016    13162      8.50          8.50           \n",
       "2 1503960366 4/13/2016    10735      6.97          6.97           \n",
       "3 1503960366 4/14/2016    10460      6.74          6.74           \n",
       "4 1503960366 4/15/2016     9762      6.28          6.28           \n",
       "5 1503960366 4/16/2016    12669      8.16          8.16           \n",
       "6 1503960366 4/17/2016     9705      6.48          6.48           \n",
       "  LoggedActivitiesDistance VeryActiveDistance ModeratelyActiveDistance\n",
       "1 0                        1.88               0.55                    \n",
       "2 0                        1.57               0.69                    \n",
       "3 0                        2.44               0.40                    \n",
       "4 0                        2.14               1.26                    \n",
       "5 0                        2.71               0.41                    \n",
       "6 0                        3.19               0.78                    \n",
       "  LightActiveDistance SedentaryActiveDistance VeryActiveMinutes\n",
       "1 6.06                0                       25               \n",
       "2 4.71                0                       21               \n",
       "3 3.91                0                       30               \n",
       "4 2.83                0                       29               \n",
       "5 5.04                0                       36               \n",
       "6 2.51                0                       38               \n",
       "  FairlyActiveMinutes LightlyActiveMinutes SedentaryMinutes Calories\n",
       "1 13                  328                   728             1985    \n",
       "2 19                  217                   776             1797    \n",
       "3 11                  181                  1218             1776    \n",
       "4 34                  209                   726             1745    \n",
       "5 10                  221                   773             1863    \n",
       "6 20                  164                   539             1728    "
      ]
     },
     "metadata": {},
     "output_type": "display_data"
    },
    {
     "data": {
      "text/html": [
       "<table class=\"dataframe\">\n",
       "<caption>A tibble: 6 × 5</caption>\n",
       "<thead>\n",
       "\t<tr><th scope=col>Id</th><th scope=col>SleepDay</th><th scope=col>TotalSleepRecords</th><th scope=col>TotalMinutesAsleep</th><th scope=col>TotalTimeInBed</th></tr>\n",
       "\t<tr><th scope=col>&lt;dbl&gt;</th><th scope=col>&lt;chr&gt;</th><th scope=col>&lt;dbl&gt;</th><th scope=col>&lt;dbl&gt;</th><th scope=col>&lt;dbl&gt;</th></tr>\n",
       "</thead>\n",
       "<tbody>\n",
       "\t<tr><td>1503960366</td><td>4/12/2016 12:00:00 AM</td><td>1</td><td>327</td><td>346</td></tr>\n",
       "\t<tr><td>1503960366</td><td>4/13/2016 12:00:00 AM</td><td>2</td><td>384</td><td>407</td></tr>\n",
       "\t<tr><td>1503960366</td><td>4/15/2016 12:00:00 AM</td><td>1</td><td>412</td><td>442</td></tr>\n",
       "\t<tr><td>1503960366</td><td>4/16/2016 12:00:00 AM</td><td>2</td><td>340</td><td>367</td></tr>\n",
       "\t<tr><td>1503960366</td><td>4/17/2016 12:00:00 AM</td><td>1</td><td>700</td><td>712</td></tr>\n",
       "\t<tr><td>1503960366</td><td>4/19/2016 12:00:00 AM</td><td>1</td><td>304</td><td>320</td></tr>\n",
       "</tbody>\n",
       "</table>\n"
      ],
      "text/latex": [
       "A tibble: 6 × 5\n",
       "\\begin{tabular}{lllll}\n",
       " Id & SleepDay & TotalSleepRecords & TotalMinutesAsleep & TotalTimeInBed\\\\\n",
       " <dbl> & <chr> & <dbl> & <dbl> & <dbl>\\\\\n",
       "\\hline\n",
       "\t 1503960366 & 4/12/2016 12:00:00 AM & 1 & 327 & 346\\\\\n",
       "\t 1503960366 & 4/13/2016 12:00:00 AM & 2 & 384 & 407\\\\\n",
       "\t 1503960366 & 4/15/2016 12:00:00 AM & 1 & 412 & 442\\\\\n",
       "\t 1503960366 & 4/16/2016 12:00:00 AM & 2 & 340 & 367\\\\\n",
       "\t 1503960366 & 4/17/2016 12:00:00 AM & 1 & 700 & 712\\\\\n",
       "\t 1503960366 & 4/19/2016 12:00:00 AM & 1 & 304 & 320\\\\\n",
       "\\end{tabular}\n"
      ],
      "text/markdown": [
       "\n",
       "A tibble: 6 × 5\n",
       "\n",
       "| Id &lt;dbl&gt; | SleepDay &lt;chr&gt; | TotalSleepRecords &lt;dbl&gt; | TotalMinutesAsleep &lt;dbl&gt; | TotalTimeInBed &lt;dbl&gt; |\n",
       "|---|---|---|---|---|\n",
       "| 1503960366 | 4/12/2016 12:00:00 AM | 1 | 327 | 346 |\n",
       "| 1503960366 | 4/13/2016 12:00:00 AM | 2 | 384 | 407 |\n",
       "| 1503960366 | 4/15/2016 12:00:00 AM | 1 | 412 | 442 |\n",
       "| 1503960366 | 4/16/2016 12:00:00 AM | 2 | 340 | 367 |\n",
       "| 1503960366 | 4/17/2016 12:00:00 AM | 1 | 700 | 712 |\n",
       "| 1503960366 | 4/19/2016 12:00:00 AM | 1 | 304 | 320 |\n",
       "\n"
      ],
      "text/plain": [
       "  Id         SleepDay              TotalSleepRecords TotalMinutesAsleep\n",
       "1 1503960366 4/12/2016 12:00:00 AM 1                 327               \n",
       "2 1503960366 4/13/2016 12:00:00 AM 2                 384               \n",
       "3 1503960366 4/15/2016 12:00:00 AM 1                 412               \n",
       "4 1503960366 4/16/2016 12:00:00 AM 2                 340               \n",
       "5 1503960366 4/17/2016 12:00:00 AM 1                 700               \n",
       "6 1503960366 4/19/2016 12:00:00 AM 1                 304               \n",
       "  TotalTimeInBed\n",
       "1 346           \n",
       "2 407           \n",
       "3 442           \n",
       "4 367           \n",
       "5 712           \n",
       "6 320           "
      ]
     },
     "metadata": {},
     "output_type": "display_data"
    },
    {
     "data": {
      "text/html": [
       "<table class=\"dataframe\">\n",
       "<caption>A tibble: 6 × 3</caption>\n",
       "<thead>\n",
       "\t<tr><th scope=col>Id</th><th scope=col>Time</th><th scope=col>Value</th></tr>\n",
       "\t<tr><th scope=col>&lt;dbl&gt;</th><th scope=col>&lt;chr&gt;</th><th scope=col>&lt;dbl&gt;</th></tr>\n",
       "</thead>\n",
       "<tbody>\n",
       "\t<tr><td>2022484408</td><td>4/12/2016 7:21:00 AM</td><td> 97</td></tr>\n",
       "\t<tr><td>2022484408</td><td>4/12/2016 7:21:05 AM</td><td>102</td></tr>\n",
       "\t<tr><td>2022484408</td><td>4/12/2016 7:21:10 AM</td><td>105</td></tr>\n",
       "\t<tr><td>2022484408</td><td>4/12/2016 7:21:20 AM</td><td>103</td></tr>\n",
       "\t<tr><td>2022484408</td><td>4/12/2016 7:21:25 AM</td><td>101</td></tr>\n",
       "\t<tr><td>2022484408</td><td>4/12/2016 7:22:05 AM</td><td> 95</td></tr>\n",
       "</tbody>\n",
       "</table>\n"
      ],
      "text/latex": [
       "A tibble: 6 × 3\n",
       "\\begin{tabular}{lll}\n",
       " Id & Time & Value\\\\\n",
       " <dbl> & <chr> & <dbl>\\\\\n",
       "\\hline\n",
       "\t 2022484408 & 4/12/2016 7:21:00 AM &  97\\\\\n",
       "\t 2022484408 & 4/12/2016 7:21:05 AM & 102\\\\\n",
       "\t 2022484408 & 4/12/2016 7:21:10 AM & 105\\\\\n",
       "\t 2022484408 & 4/12/2016 7:21:20 AM & 103\\\\\n",
       "\t 2022484408 & 4/12/2016 7:21:25 AM & 101\\\\\n",
       "\t 2022484408 & 4/12/2016 7:22:05 AM &  95\\\\\n",
       "\\end{tabular}\n"
      ],
      "text/markdown": [
       "\n",
       "A tibble: 6 × 3\n",
       "\n",
       "| Id &lt;dbl&gt; | Time &lt;chr&gt; | Value &lt;dbl&gt; |\n",
       "|---|---|---|\n",
       "| 2022484408 | 4/12/2016 7:21:00 AM |  97 |\n",
       "| 2022484408 | 4/12/2016 7:21:05 AM | 102 |\n",
       "| 2022484408 | 4/12/2016 7:21:10 AM | 105 |\n",
       "| 2022484408 | 4/12/2016 7:21:20 AM | 103 |\n",
       "| 2022484408 | 4/12/2016 7:21:25 AM | 101 |\n",
       "| 2022484408 | 4/12/2016 7:22:05 AM |  95 |\n",
       "\n"
      ],
      "text/plain": [
       "  Id         Time                 Value\n",
       "1 2022484408 4/12/2016 7:21:00 AM  97  \n",
       "2 2022484408 4/12/2016 7:21:05 AM 102  \n",
       "3 2022484408 4/12/2016 7:21:10 AM 105  \n",
       "4 2022484408 4/12/2016 7:21:20 AM 103  \n",
       "5 2022484408 4/12/2016 7:21:25 AM 101  \n",
       "6 2022484408 4/12/2016 7:22:05 AM  95  "
      ]
     },
     "metadata": {},
     "output_type": "display_data"
    },
    {
     "data": {
      "text/html": [
       "<table class=\"dataframe\">\n",
       "<caption>A tibble: 6 × 3</caption>\n",
       "<thead>\n",
       "\t<tr><th scope=col>Id</th><th scope=col>ActivityHour</th><th scope=col>StepTotal</th></tr>\n",
       "\t<tr><th scope=col>&lt;dbl&gt;</th><th scope=col>&lt;chr&gt;</th><th scope=col>&lt;dbl&gt;</th></tr>\n",
       "</thead>\n",
       "<tbody>\n",
       "\t<tr><td>1503960366</td><td>4/12/2016 12:00:00 AM</td><td>373</td></tr>\n",
       "\t<tr><td>1503960366</td><td>4/12/2016 1:00:00 AM </td><td>160</td></tr>\n",
       "\t<tr><td>1503960366</td><td>4/12/2016 2:00:00 AM </td><td>151</td></tr>\n",
       "\t<tr><td>1503960366</td><td>4/12/2016 3:00:00 AM </td><td>  0</td></tr>\n",
       "\t<tr><td>1503960366</td><td>4/12/2016 4:00:00 AM </td><td>  0</td></tr>\n",
       "\t<tr><td>1503960366</td><td>4/12/2016 5:00:00 AM </td><td>  0</td></tr>\n",
       "</tbody>\n",
       "</table>\n"
      ],
      "text/latex": [
       "A tibble: 6 × 3\n",
       "\\begin{tabular}{lll}\n",
       " Id & ActivityHour & StepTotal\\\\\n",
       " <dbl> & <chr> & <dbl>\\\\\n",
       "\\hline\n",
       "\t 1503960366 & 4/12/2016 12:00:00 AM & 373\\\\\n",
       "\t 1503960366 & 4/12/2016 1:00:00 AM  & 160\\\\\n",
       "\t 1503960366 & 4/12/2016 2:00:00 AM  & 151\\\\\n",
       "\t 1503960366 & 4/12/2016 3:00:00 AM  &   0\\\\\n",
       "\t 1503960366 & 4/12/2016 4:00:00 AM  &   0\\\\\n",
       "\t 1503960366 & 4/12/2016 5:00:00 AM  &   0\\\\\n",
       "\\end{tabular}\n"
      ],
      "text/markdown": [
       "\n",
       "A tibble: 6 × 3\n",
       "\n",
       "| Id &lt;dbl&gt; | ActivityHour &lt;chr&gt; | StepTotal &lt;dbl&gt; |\n",
       "|---|---|---|\n",
       "| 1503960366 | 4/12/2016 12:00:00 AM | 373 |\n",
       "| 1503960366 | 4/12/2016 1:00:00 AM  | 160 |\n",
       "| 1503960366 | 4/12/2016 2:00:00 AM  | 151 |\n",
       "| 1503960366 | 4/12/2016 3:00:00 AM  |   0 |\n",
       "| 1503960366 | 4/12/2016 4:00:00 AM  |   0 |\n",
       "| 1503960366 | 4/12/2016 5:00:00 AM  |   0 |\n",
       "\n"
      ],
      "text/plain": [
       "  Id         ActivityHour          StepTotal\n",
       "1 1503960366 4/12/2016 12:00:00 AM 373      \n",
       "2 1503960366 4/12/2016 1:00:00 AM  160      \n",
       "3 1503960366 4/12/2016 2:00:00 AM  151      \n",
       "4 1503960366 4/12/2016 3:00:00 AM    0      \n",
       "5 1503960366 4/12/2016 4:00:00 AM    0      \n",
       "6 1503960366 4/12/2016 5:00:00 AM    0      "
      ]
     },
     "metadata": {},
     "output_type": "display_data"
    },
    {
     "data": {
      "text/html": [
       "<table class=\"dataframe\">\n",
       "<caption>A tibble: 6 × 8</caption>\n",
       "<thead>\n",
       "\t<tr><th scope=col>Id</th><th scope=col>Date</th><th scope=col>WeightKg</th><th scope=col>WeightPounds</th><th scope=col>Fat</th><th scope=col>BMI</th><th scope=col>IsManualReport</th><th scope=col>LogId</th></tr>\n",
       "\t<tr><th scope=col>&lt;dbl&gt;</th><th scope=col>&lt;chr&gt;</th><th scope=col>&lt;dbl&gt;</th><th scope=col>&lt;dbl&gt;</th><th scope=col>&lt;dbl&gt;</th><th scope=col>&lt;dbl&gt;</th><th scope=col>&lt;lgl&gt;</th><th scope=col>&lt;dbl&gt;</th></tr>\n",
       "</thead>\n",
       "<tbody>\n",
       "\t<tr><td>1503960366</td><td>5/2/2016 11:59:59 PM </td><td> 52.6</td><td>115.9631</td><td>22</td><td>22.65</td><td> TRUE</td><td>1.462234e+12</td></tr>\n",
       "\t<tr><td>1503960366</td><td>5/3/2016 11:59:59 PM </td><td> 52.6</td><td>115.9631</td><td>NA</td><td>22.65</td><td> TRUE</td><td>1.462320e+12</td></tr>\n",
       "\t<tr><td>1927972279</td><td>4/13/2016 1:08:52 AM </td><td>133.5</td><td>294.3171</td><td>NA</td><td>47.54</td><td>FALSE</td><td>1.460510e+12</td></tr>\n",
       "\t<tr><td>2873212765</td><td>4/21/2016 11:59:59 PM</td><td> 56.7</td><td>125.0021</td><td>NA</td><td>21.45</td><td> TRUE</td><td>1.461283e+12</td></tr>\n",
       "\t<tr><td>2873212765</td><td>5/12/2016 11:59:59 PM</td><td> 57.3</td><td>126.3249</td><td>NA</td><td>21.69</td><td> TRUE</td><td>1.463098e+12</td></tr>\n",
       "\t<tr><td>4319703577</td><td>4/17/2016 11:59:59 PM</td><td> 72.4</td><td>159.6147</td><td>25</td><td>27.45</td><td> TRUE</td><td>1.460938e+12</td></tr>\n",
       "</tbody>\n",
       "</table>\n"
      ],
      "text/latex": [
       "A tibble: 6 × 8\n",
       "\\begin{tabular}{llllllll}\n",
       " Id & Date & WeightKg & WeightPounds & Fat & BMI & IsManualReport & LogId\\\\\n",
       " <dbl> & <chr> & <dbl> & <dbl> & <dbl> & <dbl> & <lgl> & <dbl>\\\\\n",
       "\\hline\n",
       "\t 1503960366 & 5/2/2016 11:59:59 PM  &  52.6 & 115.9631 & 22 & 22.65 &  TRUE & 1.462234e+12\\\\\n",
       "\t 1503960366 & 5/3/2016 11:59:59 PM  &  52.6 & 115.9631 & NA & 22.65 &  TRUE & 1.462320e+12\\\\\n",
       "\t 1927972279 & 4/13/2016 1:08:52 AM  & 133.5 & 294.3171 & NA & 47.54 & FALSE & 1.460510e+12\\\\\n",
       "\t 2873212765 & 4/21/2016 11:59:59 PM &  56.7 & 125.0021 & NA & 21.45 &  TRUE & 1.461283e+12\\\\\n",
       "\t 2873212765 & 5/12/2016 11:59:59 PM &  57.3 & 126.3249 & NA & 21.69 &  TRUE & 1.463098e+12\\\\\n",
       "\t 4319703577 & 4/17/2016 11:59:59 PM &  72.4 & 159.6147 & 25 & 27.45 &  TRUE & 1.460938e+12\\\\\n",
       "\\end{tabular}\n"
      ],
      "text/markdown": [
       "\n",
       "A tibble: 6 × 8\n",
       "\n",
       "| Id &lt;dbl&gt; | Date &lt;chr&gt; | WeightKg &lt;dbl&gt; | WeightPounds &lt;dbl&gt; | Fat &lt;dbl&gt; | BMI &lt;dbl&gt; | IsManualReport &lt;lgl&gt; | LogId &lt;dbl&gt; |\n",
       "|---|---|---|---|---|---|---|---|\n",
       "| 1503960366 | 5/2/2016 11:59:59 PM  |  52.6 | 115.9631 | 22 | 22.65 |  TRUE | 1.462234e+12 |\n",
       "| 1503960366 | 5/3/2016 11:59:59 PM  |  52.6 | 115.9631 | NA | 22.65 |  TRUE | 1.462320e+12 |\n",
       "| 1927972279 | 4/13/2016 1:08:52 AM  | 133.5 | 294.3171 | NA | 47.54 | FALSE | 1.460510e+12 |\n",
       "| 2873212765 | 4/21/2016 11:59:59 PM |  56.7 | 125.0021 | NA | 21.45 |  TRUE | 1.461283e+12 |\n",
       "| 2873212765 | 5/12/2016 11:59:59 PM |  57.3 | 126.3249 | NA | 21.69 |  TRUE | 1.463098e+12 |\n",
       "| 4319703577 | 4/17/2016 11:59:59 PM |  72.4 | 159.6147 | 25 | 27.45 |  TRUE | 1.460938e+12 |\n",
       "\n"
      ],
      "text/plain": [
       "  Id         Date                  WeightKg WeightPounds Fat BMI  \n",
       "1 1503960366 5/2/2016 11:59:59 PM   52.6    115.9631     22  22.65\n",
       "2 1503960366 5/3/2016 11:59:59 PM   52.6    115.9631     NA  22.65\n",
       "3 1927972279 4/13/2016 1:08:52 AM  133.5    294.3171     NA  47.54\n",
       "4 2873212765 4/21/2016 11:59:59 PM  56.7    125.0021     NA  21.45\n",
       "5 2873212765 5/12/2016 11:59:59 PM  57.3    126.3249     NA  21.69\n",
       "6 4319703577 4/17/2016 11:59:59 PM  72.4    159.6147     25  27.45\n",
       "  IsManualReport LogId       \n",
       "1  TRUE          1.462234e+12\n",
       "2  TRUE          1.462320e+12\n",
       "3 FALSE          1.460510e+12\n",
       "4  TRUE          1.461283e+12\n",
       "5  TRUE          1.463098e+12\n",
       "6  TRUE          1.460938e+12"
      ]
     },
     "metadata": {},
     "output_type": "display_data"
    },
    {
     "data": {
      "text/html": [
       "<table class=\"dataframe\">\n",
       "<caption>A tibble: 6 × 4</caption>\n",
       "<thead>\n",
       "\t<tr><th scope=col>Id</th><th scope=col>ActivityHour</th><th scope=col>TotalIntensity</th><th scope=col>AverageIntensity</th></tr>\n",
       "\t<tr><th scope=col>&lt;dbl&gt;</th><th scope=col>&lt;chr&gt;</th><th scope=col>&lt;dbl&gt;</th><th scope=col>&lt;dbl&gt;</th></tr>\n",
       "</thead>\n",
       "<tbody>\n",
       "\t<tr><td>1503960366</td><td>4/12/2016 12:00:00 AM</td><td>20</td><td>0.333333</td></tr>\n",
       "\t<tr><td>1503960366</td><td>4/12/2016 1:00:00 AM </td><td> 8</td><td>0.133333</td></tr>\n",
       "\t<tr><td>1503960366</td><td>4/12/2016 2:00:00 AM </td><td> 7</td><td>0.116667</td></tr>\n",
       "\t<tr><td>1503960366</td><td>4/12/2016 3:00:00 AM </td><td> 0</td><td>0.000000</td></tr>\n",
       "\t<tr><td>1503960366</td><td>4/12/2016 4:00:00 AM </td><td> 0</td><td>0.000000</td></tr>\n",
       "\t<tr><td>1503960366</td><td>4/12/2016 5:00:00 AM </td><td> 0</td><td>0.000000</td></tr>\n",
       "</tbody>\n",
       "</table>\n"
      ],
      "text/latex": [
       "A tibble: 6 × 4\n",
       "\\begin{tabular}{llll}\n",
       " Id & ActivityHour & TotalIntensity & AverageIntensity\\\\\n",
       " <dbl> & <chr> & <dbl> & <dbl>\\\\\n",
       "\\hline\n",
       "\t 1503960366 & 4/12/2016 12:00:00 AM & 20 & 0.333333\\\\\n",
       "\t 1503960366 & 4/12/2016 1:00:00 AM  &  8 & 0.133333\\\\\n",
       "\t 1503960366 & 4/12/2016 2:00:00 AM  &  7 & 0.116667\\\\\n",
       "\t 1503960366 & 4/12/2016 3:00:00 AM  &  0 & 0.000000\\\\\n",
       "\t 1503960366 & 4/12/2016 4:00:00 AM  &  0 & 0.000000\\\\\n",
       "\t 1503960366 & 4/12/2016 5:00:00 AM  &  0 & 0.000000\\\\\n",
       "\\end{tabular}\n"
      ],
      "text/markdown": [
       "\n",
       "A tibble: 6 × 4\n",
       "\n",
       "| Id &lt;dbl&gt; | ActivityHour &lt;chr&gt; | TotalIntensity &lt;dbl&gt; | AverageIntensity &lt;dbl&gt; |\n",
       "|---|---|---|---|\n",
       "| 1503960366 | 4/12/2016 12:00:00 AM | 20 | 0.333333 |\n",
       "| 1503960366 | 4/12/2016 1:00:00 AM  |  8 | 0.133333 |\n",
       "| 1503960366 | 4/12/2016 2:00:00 AM  |  7 | 0.116667 |\n",
       "| 1503960366 | 4/12/2016 3:00:00 AM  |  0 | 0.000000 |\n",
       "| 1503960366 | 4/12/2016 4:00:00 AM  |  0 | 0.000000 |\n",
       "| 1503960366 | 4/12/2016 5:00:00 AM  |  0 | 0.000000 |\n",
       "\n"
      ],
      "text/plain": [
       "  Id         ActivityHour          TotalIntensity AverageIntensity\n",
       "1 1503960366 4/12/2016 12:00:00 AM 20             0.333333        \n",
       "2 1503960366 4/12/2016 1:00:00 AM   8             0.133333        \n",
       "3 1503960366 4/12/2016 2:00:00 AM   7             0.116667        \n",
       "4 1503960366 4/12/2016 3:00:00 AM   0             0.000000        \n",
       "5 1503960366 4/12/2016 4:00:00 AM   0             0.000000        \n",
       "6 1503960366 4/12/2016 5:00:00 AM   0             0.000000        "
      ]
     },
     "metadata": {},
     "output_type": "display_data"
    }
   ],
   "source": [
    "# 6 önemsediğimiz veri setini analizimiz için seçtik.\n",
    "# Kullanıcıların günlük aktivite düzeyi nedir?\n",
    "# Uyku ve fiziksel aktivite arasında nasıl bir ilişki var? Kalp atış hızı değişimleri nasıl? (Egzersiz sıklığı)\n",
    "# Saatlik hareketlilik ve aktivite yoğunluğu nasıl değişiyor? (Sabah-akşam farklılıkları)\n",
    "# Kalori yakımı gün içinde nasıl değişiyor? Hangi saatlerde daha fazla yakılıyor?\n",
    "# Kilo değişimi ile aktivite arasında nasıl bir ilişki var?\n",
    "\n",
    "# Günlük aktivite verisi\n",
    "df_activity <- read_csv(\"C:/Users/hp/Documents/mturkfitbit_export_4.12.16-5.12.16/Fitabase Data 4.12.16-5.12.16/dailyActivity_merged.csv\")\n",
    "\n",
    "# Uyku verisi\n",
    "df_sleep <- read_csv(\"C:/Users/hp/Documents/mturkfitbit_export_4.12.16-5.12.16/Fitabase Data 4.12.16-5.12.16/sleepDay_merged.csv\")\n",
    "\n",
    "# Kalp atış hızı verisi\n",
    "df_heartrate <- read_csv(\"C:/Users/hp/Documents/mturkfitbit_export_4.12.16-5.12.16/Fitabase Data 4.12.16-5.12.16/heartrate_seconds_merged.csv\")\n",
    "\n",
    "# Saatlik adım verisi\n",
    "df_hourly_steps <- read_csv(\"C:/Users/hp/Documents/mturkfitbit_export_4.12.16-5.12.16/Fitabase Data 4.12.16-5.12.16/hourlySteps_merged.csv\")\n",
    "\n",
    "# Kilo takibi verisi\n",
    "df_weight <- read_csv(\"C:/Users/hp/Documents/mturkfitbit_export_4.12.16-5.12.16/Fitabase Data 4.12.16-5.12.16/weightLogInfo_merged.csv\")\n",
    "\n",
    "# Saatlik yoğunluk verisi (intensity)\n",
    "df_intensity <- read_csv(\"C:/Users/hp/Documents/mturkfitbit_export_4.12.16-5.12.16/Fitabase Data 4.12.16-5.12.16/hourlyIntensities_merged.csv\")\n",
    "\n",
    "# İlk birkaç satırı görüntüleyelim\n",
    "head(df_activity)\n",
    "head(df_sleep)\n",
    "head(df_heartrate)\n",
    "head(df_hourly_steps)\n",
    "head(df_weight)\n",
    "head(df_intensity)\n"
   ]
  },
  {
   "cell_type": "code",
   "execution_count": 13,
   "id": "7d67e98c-e009-43ba-a472-e8ced63380d7",
   "metadata": {},
   "outputs": [],
   "source": [
    "### Bellabeat Case Study - PROCESS Phase"
   ]
  },
  {
   "cell_type": "code",
   "execution_count": 14,
   "id": "dc9a24d9-8608-4d93-8007-6ea739a49093",
   "metadata": {},
   "outputs": [
    {
     "data": {
      "text/html": [
       "<style>\n",
       ".dl-inline {width: auto; margin:0; padding: 0}\n",
       ".dl-inline>dt, .dl-inline>dd {float: none; width: auto; display: inline-block}\n",
       ".dl-inline>dt::after {content: \":\\0020\"; padding-right: .5ex}\n",
       ".dl-inline>dt:not(:first-of-type) {padding-left: .5ex}\n",
       "</style><dl class=dl-inline><dt>Id</dt><dd>0</dd><dt>ActivityDate</dt><dd>0</dd><dt>TotalSteps</dt><dd>0</dd><dt>TotalDistance</dt><dd>0</dd><dt>TrackerDistance</dt><dd>0</dd><dt>LoggedActivitiesDistance</dt><dd>0</dd><dt>VeryActiveDistance</dt><dd>0</dd><dt>ModeratelyActiveDistance</dt><dd>0</dd><dt>LightActiveDistance</dt><dd>0</dd><dt>SedentaryActiveDistance</dt><dd>0</dd><dt>VeryActiveMinutes</dt><dd>0</dd><dt>FairlyActiveMinutes</dt><dd>0</dd><dt>LightlyActiveMinutes</dt><dd>0</dd><dt>SedentaryMinutes</dt><dd>0</dd><dt>Calories</dt><dd>0</dd></dl>\n"
      ],
      "text/latex": [
       "\\begin{description*}\n",
       "\\item[Id] 0\n",
       "\\item[ActivityDate] 0\n",
       "\\item[TotalSteps] 0\n",
       "\\item[TotalDistance] 0\n",
       "\\item[TrackerDistance] 0\n",
       "\\item[LoggedActivitiesDistance] 0\n",
       "\\item[VeryActiveDistance] 0\n",
       "\\item[ModeratelyActiveDistance] 0\n",
       "\\item[LightActiveDistance] 0\n",
       "\\item[SedentaryActiveDistance] 0\n",
       "\\item[VeryActiveMinutes] 0\n",
       "\\item[FairlyActiveMinutes] 0\n",
       "\\item[LightlyActiveMinutes] 0\n",
       "\\item[SedentaryMinutes] 0\n",
       "\\item[Calories] 0\n",
       "\\end{description*}\n"
      ],
      "text/markdown": [
       "Id\n",
       ":   0ActivityDate\n",
       ":   0TotalSteps\n",
       ":   0TotalDistance\n",
       ":   0TrackerDistance\n",
       ":   0LoggedActivitiesDistance\n",
       ":   0VeryActiveDistance\n",
       ":   0ModeratelyActiveDistance\n",
       ":   0LightActiveDistance\n",
       ":   0SedentaryActiveDistance\n",
       ":   0VeryActiveMinutes\n",
       ":   0FairlyActiveMinutes\n",
       ":   0LightlyActiveMinutes\n",
       ":   0SedentaryMinutes\n",
       ":   0Calories\n",
       ":   0\n",
       "\n"
      ],
      "text/plain": [
       "                      Id             ActivityDate               TotalSteps \n",
       "                       0                        0                        0 \n",
       "           TotalDistance          TrackerDistance LoggedActivitiesDistance \n",
       "                       0                        0                        0 \n",
       "      VeryActiveDistance ModeratelyActiveDistance      LightActiveDistance \n",
       "                       0                        0                        0 \n",
       " SedentaryActiveDistance        VeryActiveMinutes      FairlyActiveMinutes \n",
       "                       0                        0                        0 \n",
       "    LightlyActiveMinutes         SedentaryMinutes                 Calories \n",
       "                       0                        0                        0 "
      ]
     },
     "metadata": {},
     "output_type": "display_data"
    },
    {
     "data": {
      "text/html": [
       "<style>\n",
       ".dl-inline {width: auto; margin:0; padding: 0}\n",
       ".dl-inline>dt, .dl-inline>dd {float: none; width: auto; display: inline-block}\n",
       ".dl-inline>dt::after {content: \":\\0020\"; padding-right: .5ex}\n",
       ".dl-inline>dt:not(:first-of-type) {padding-left: .5ex}\n",
       "</style><dl class=dl-inline><dt>Id</dt><dd>0</dd><dt>SleepDay</dt><dd>0</dd><dt>TotalSleepRecords</dt><dd>0</dd><dt>TotalMinutesAsleep</dt><dd>0</dd><dt>TotalTimeInBed</dt><dd>0</dd></dl>\n"
      ],
      "text/latex": [
       "\\begin{description*}\n",
       "\\item[Id] 0\n",
       "\\item[SleepDay] 0\n",
       "\\item[TotalSleepRecords] 0\n",
       "\\item[TotalMinutesAsleep] 0\n",
       "\\item[TotalTimeInBed] 0\n",
       "\\end{description*}\n"
      ],
      "text/markdown": [
       "Id\n",
       ":   0SleepDay\n",
       ":   0TotalSleepRecords\n",
       ":   0TotalMinutesAsleep\n",
       ":   0TotalTimeInBed\n",
       ":   0\n",
       "\n"
      ],
      "text/plain": [
       "                Id           SleepDay  TotalSleepRecords TotalMinutesAsleep \n",
       "                 0                  0                  0                  0 \n",
       "    TotalTimeInBed \n",
       "                 0 "
      ]
     },
     "metadata": {},
     "output_type": "display_data"
    },
    {
     "data": {
      "text/html": [
       "<style>\n",
       ".dl-inline {width: auto; margin:0; padding: 0}\n",
       ".dl-inline>dt, .dl-inline>dd {float: none; width: auto; display: inline-block}\n",
       ".dl-inline>dt::after {content: \":\\0020\"; padding-right: .5ex}\n",
       ".dl-inline>dt:not(:first-of-type) {padding-left: .5ex}\n",
       "</style><dl class=dl-inline><dt>Id</dt><dd>0</dd><dt>Time</dt><dd>0</dd><dt>Value</dt><dd>0</dd></dl>\n"
      ],
      "text/latex": [
       "\\begin{description*}\n",
       "\\item[Id] 0\n",
       "\\item[Time] 0\n",
       "\\item[Value] 0\n",
       "\\end{description*}\n"
      ],
      "text/markdown": [
       "Id\n",
       ":   0Time\n",
       ":   0Value\n",
       ":   0\n",
       "\n"
      ],
      "text/plain": [
       "   Id  Time Value \n",
       "    0     0     0 "
      ]
     },
     "metadata": {},
     "output_type": "display_data"
    },
    {
     "data": {
      "text/html": [
       "<style>\n",
       ".dl-inline {width: auto; margin:0; padding: 0}\n",
       ".dl-inline>dt, .dl-inline>dd {float: none; width: auto; display: inline-block}\n",
       ".dl-inline>dt::after {content: \":\\0020\"; padding-right: .5ex}\n",
       ".dl-inline>dt:not(:first-of-type) {padding-left: .5ex}\n",
       "</style><dl class=dl-inline><dt>Id</dt><dd>0</dd><dt>ActivityHour</dt><dd>0</dd><dt>StepTotal</dt><dd>0</dd></dl>\n"
      ],
      "text/latex": [
       "\\begin{description*}\n",
       "\\item[Id] 0\n",
       "\\item[ActivityHour] 0\n",
       "\\item[StepTotal] 0\n",
       "\\end{description*}\n"
      ],
      "text/markdown": [
       "Id\n",
       ":   0ActivityHour\n",
       ":   0StepTotal\n",
       ":   0\n",
       "\n"
      ],
      "text/plain": [
       "          Id ActivityHour    StepTotal \n",
       "           0            0            0 "
      ]
     },
     "metadata": {},
     "output_type": "display_data"
    },
    {
     "data": {
      "text/html": [
       "<style>\n",
       ".dl-inline {width: auto; margin:0; padding: 0}\n",
       ".dl-inline>dt, .dl-inline>dd {float: none; width: auto; display: inline-block}\n",
       ".dl-inline>dt::after {content: \":\\0020\"; padding-right: .5ex}\n",
       ".dl-inline>dt:not(:first-of-type) {padding-left: .5ex}\n",
       "</style><dl class=dl-inline><dt>Id</dt><dd>0</dd><dt>Date</dt><dd>0</dd><dt>WeightKg</dt><dd>0</dd><dt>WeightPounds</dt><dd>0</dd><dt>Fat</dt><dd>65</dd><dt>BMI</dt><dd>0</dd><dt>IsManualReport</dt><dd>0</dd><dt>LogId</dt><dd>0</dd></dl>\n"
      ],
      "text/latex": [
       "\\begin{description*}\n",
       "\\item[Id] 0\n",
       "\\item[Date] 0\n",
       "\\item[WeightKg] 0\n",
       "\\item[WeightPounds] 0\n",
       "\\item[Fat] 65\n",
       "\\item[BMI] 0\n",
       "\\item[IsManualReport] 0\n",
       "\\item[LogId] 0\n",
       "\\end{description*}\n"
      ],
      "text/markdown": [
       "Id\n",
       ":   0Date\n",
       ":   0WeightKg\n",
       ":   0WeightPounds\n",
       ":   0Fat\n",
       ":   65BMI\n",
       ":   0IsManualReport\n",
       ":   0LogId\n",
       ":   0\n",
       "\n"
      ],
      "text/plain": [
       "            Id           Date       WeightKg   WeightPounds            Fat \n",
       "             0              0              0              0             65 \n",
       "           BMI IsManualReport          LogId \n",
       "             0              0              0 "
      ]
     },
     "metadata": {},
     "output_type": "display_data"
    },
    {
     "data": {
      "text/html": [
       "<style>\n",
       ".dl-inline {width: auto; margin:0; padding: 0}\n",
       ".dl-inline>dt, .dl-inline>dd {float: none; width: auto; display: inline-block}\n",
       ".dl-inline>dt::after {content: \":\\0020\"; padding-right: .5ex}\n",
       ".dl-inline>dt:not(:first-of-type) {padding-left: .5ex}\n",
       "</style><dl class=dl-inline><dt>Id</dt><dd>0</dd><dt>ActivityHour</dt><dd>0</dd><dt>TotalIntensity</dt><dd>0</dd><dt>AverageIntensity</dt><dd>0</dd></dl>\n"
      ],
      "text/latex": [
       "\\begin{description*}\n",
       "\\item[Id] 0\n",
       "\\item[ActivityHour] 0\n",
       "\\item[TotalIntensity] 0\n",
       "\\item[AverageIntensity] 0\n",
       "\\end{description*}\n"
      ],
      "text/markdown": [
       "Id\n",
       ":   0ActivityHour\n",
       ":   0TotalIntensity\n",
       ":   0AverageIntensity\n",
       ":   0\n",
       "\n"
      ],
      "text/plain": [
       "              Id     ActivityHour   TotalIntensity AverageIntensity \n",
       "               0                0                0                0 "
      ]
     },
     "metadata": {},
     "output_type": "display_data"
    }
   ],
   "source": [
    "# Eksik verileri say\n",
    "colSums(is.na(df_activity))\n",
    "colSums(is.na(df_sleep))\n",
    "colSums(is.na(df_heartrate))\n",
    "colSums(is.na(df_hourly_steps))\n",
    "colSums(is.na(df_weight))\n",
    "colSums(is.na(df_intensity))\n"
   ]
  },
  {
   "cell_type": "code",
   "execution_count": 15,
   "id": "579a1e58-c710-497e-b81f-08dffbf5651e",
   "metadata": {},
   "outputs": [],
   "source": [
    "# Günlük aktivite verisinin tarih formatını düzeltme\n",
    "df_activity <- df_activity %>%\n",
    "  mutate(ActivityDate = as.Date(ActivityDate, format=\"%m/%d/%Y\"))\n",
    "\n",
    "# Uyku verisinin tarih formatını düzeltme\n",
    "df_sleep <- df_sleep %>%\n",
    "  mutate(SleepDay = as.Date(SleepDay, format=\"%m/%d/%Y\"))\n",
    "\n",
    "# Kalp atış hızı verisinin tarih + saat formatını düzeltme\n",
    "df_heartrate <- df_heartrate %>%\n",
    "  mutate(Time = as.POSIXct(Time, format=\"%m/%d/%Y %H:%M:%S\", tz=Sys.timezone()))\n",
    "\n",
    "# Saatlik adım verisinin tarih + saat formatını düzeltme\n",
    "df_hourly_steps <- df_hourly_steps %>%\n",
    "  mutate(ActivityHour = as.POSIXct(ActivityHour, format=\"%m/%d/%Y %I:%M:%S %p\", tz=Sys.timezone()))\n",
    "\n",
    "# Kilo verisinin tarih formatını düzeltme\n",
    "df_weight <- df_weight %>%\n",
    "  mutate(Date = as.Date(Date, format=\"%m/%d/%Y\"))\n",
    "\n",
    "# Saatlik yoğunluk verisinin tarih + saat formatını düzeltme\n",
    "df_intensity <- df_intensity %>%\n",
    "  mutate(ActivityHour = as.POSIXct(ActivityHour, format=\"%m/%d/%Y %I:%M:%S %p\", tz=Sys.timezone()))\n"
   ]
  },
  {
   "cell_type": "code",
   "execution_count": 16,
   "id": "eac8522e-2cdc-41ec-831e-42004a2954cc",
   "metadata": {},
   "outputs": [],
   "source": [
    "# Kalp atış hızı verisini iki sütuna ayıralım\n",
    "df_heartrate <- df_heartrate %>%\n",
    "  mutate(Date = as.Date(Time),\n",
    "         Hour = format(Time, format = \"%H:%M:%S\"))\n",
    "\n",
    "# Saatlik adım verisini iki sütuna ayıralım\n",
    "df_hourly_steps <- df_hourly_steps %>%\n",
    "  mutate(Date = as.Date(ActivityHour),\n",
    "         Hour = format(ActivityHour, format = \"%H:%M:%S\"))\n",
    "\n",
    "# Saatlik yoğunluk verisini iki sütuna ayıralım\n",
    "df_intensity <- df_intensity %>%\n",
    "  mutate(Date = as.Date(ActivityHour),\n",
    "         Hour = format(ActivityHour, format = \"%H:%M:%S\"))\n"
   ]
  },
  {
   "cell_type": "code",
   "execution_count": 17,
   "id": "3b6025f5-3c1d-433f-8297-4dd7bfec3f80",
   "metadata": {},
   "outputs": [
    {
     "name": "stdout",
     "output_type": "stream",
     "text": [
      "tibble [940 × 15] (S3: tbl_df/tbl/data.frame)\n",
      " $ Id                      : num [1:940] 1.5e+09 1.5e+09 1.5e+09 1.5e+09 1.5e+09 ...\n",
      " $ ActivityDate            : Date[1:940], format: \"2016-04-12\" \"2016-04-13\" ...\n",
      " $ TotalSteps              : num [1:940] 13162 10735 10460 9762 12669 ...\n",
      " $ TotalDistance           : num [1:940] 8.5 6.97 6.74 6.28 8.16 ...\n",
      " $ TrackerDistance         : num [1:940] 8.5 6.97 6.74 6.28 8.16 ...\n",
      " $ LoggedActivitiesDistance: num [1:940] 0 0 0 0 0 0 0 0 0 0 ...\n",
      " $ VeryActiveDistance      : num [1:940] 1.88 1.57 2.44 2.14 2.71 ...\n",
      " $ ModeratelyActiveDistance: num [1:940] 0.55 0.69 0.4 1.26 0.41 ...\n",
      " $ LightActiveDistance     : num [1:940] 6.06 4.71 3.91 2.83 5.04 ...\n",
      " $ SedentaryActiveDistance : num [1:940] 0 0 0 0 0 0 0 0 0 0 ...\n",
      " $ VeryActiveMinutes       : num [1:940] 25 21 30 29 36 38 42 50 28 19 ...\n",
      " $ FairlyActiveMinutes     : num [1:940] 13 19 11 34 10 20 16 31 12 8 ...\n",
      " $ LightlyActiveMinutes    : num [1:940] 328 217 181 209 221 164 233 264 205 211 ...\n",
      " $ SedentaryMinutes        : num [1:940] 728 776 1218 726 773 ...\n",
      " $ Calories                : num [1:940] 1985 1797 1776 1745 1863 ...\n",
      "tibble [413 × 5] (S3: tbl_df/tbl/data.frame)\n",
      " $ Id                : num [1:413] 1.5e+09 1.5e+09 1.5e+09 1.5e+09 1.5e+09 ...\n",
      " $ SleepDay          : Date[1:413], format: \"2016-04-12\" \"2016-04-13\" ...\n",
      " $ TotalSleepRecords : num [1:413] 1 2 1 2 1 1 1 1 1 1 ...\n",
      " $ TotalMinutesAsleep: num [1:413] 327 384 412 340 700 304 360 325 361 430 ...\n",
      " $ TotalTimeInBed    : num [1:413] 346 407 442 367 712 320 377 364 384 449 ...\n",
      "tibble [2,483,658 × 5] (S3: tbl_df/tbl/data.frame)\n",
      " $ Id   : num [1:2483658] 2.02e+09 2.02e+09 2.02e+09 2.02e+09 2.02e+09 ...\n",
      " $ Time : POSIXct[1:2483658], format: \"2016-04-12 07:21:00\" \"2016-04-12 07:21:05\" ...\n",
      " $ Value: num [1:2483658] 97 102 105 103 101 95 91 93 94 93 ...\n",
      " $ Date : Date[1:2483658], format: \"2016-04-12\" \"2016-04-12\" ...\n",
      " $ Hour : chr [1:2483658] \"07:21:00\" \"07:21:05\" \"07:21:10\" \"07:21:20\" ...\n",
      "tibble [22,099 × 5] (S3: tbl_df/tbl/data.frame)\n",
      " $ Id          : num [1:22099] 1.5e+09 1.5e+09 1.5e+09 1.5e+09 1.5e+09 ...\n",
      " $ ActivityHour: POSIXct[1:22099], format: \"2016-04-12 00:00:00\" \"2016-04-12 01:00:00\" ...\n",
      " $ StepTotal   : num [1:22099] 373 160 151 0 0 ...\n",
      " $ Date        : Date[1:22099], format: \"2016-04-11\" \"2016-04-11\" ...\n",
      " $ Hour        : chr [1:22099] \"00:00:00\" \"01:00:00\" \"02:00:00\" \"03:00:00\" ...\n",
      "tibble [67 × 8] (S3: tbl_df/tbl/data.frame)\n",
      " $ Id            : num [1:67] 1.50e+09 1.50e+09 1.93e+09 2.87e+09 2.87e+09 ...\n",
      " $ Date          : Date[1:67], format: \"2016-05-02\" \"2016-05-03\" ...\n",
      " $ WeightKg      : num [1:67] 52.6 52.6 133.5 56.7 57.3 ...\n",
      " $ WeightPounds  : num [1:67] 116 116 294 125 126 ...\n",
      " $ Fat           : num [1:67] 22 NA NA NA NA 25 NA NA NA NA ...\n",
      " $ BMI           : num [1:67] 22.6 22.6 47.5 21.5 21.7 ...\n",
      " $ IsManualReport: logi [1:67] TRUE TRUE FALSE TRUE TRUE TRUE ...\n",
      " $ LogId         : num [1:67] 1.46e+12 1.46e+12 1.46e+12 1.46e+12 1.46e+12 ...\n",
      "tibble [22,099 × 6] (S3: tbl_df/tbl/data.frame)\n",
      " $ Id              : num [1:22099] 1.5e+09 1.5e+09 1.5e+09 1.5e+09 1.5e+09 ...\n",
      " $ ActivityHour    : POSIXct[1:22099], format: \"2016-04-12 00:00:00\" \"2016-04-12 01:00:00\" ...\n",
      " $ TotalIntensity  : num [1:22099] 20 8 7 0 0 0 0 0 13 30 ...\n",
      " $ AverageIntensity: num [1:22099] 0.333 0.133 0.117 0 0 ...\n",
      " $ Date            : Date[1:22099], format: \"2016-04-11\" \"2016-04-11\" ...\n",
      " $ Hour            : chr [1:22099] \"00:00:00\" \"01:00:00\" \"02:00:00\" \"03:00:00\" ...\n"
     ]
    }
   ],
   "source": [
    "# Veri türlerini tekrar inceleyelim\n",
    "str(df_activity)\n",
    "str(df_sleep)\n",
    "str(df_heartrate)\n",
    "str(df_hourly_steps)\n",
    "str(df_weight)\n",
    "str(df_intensity)\n"
   ]
  },
  {
   "cell_type": "code",
   "execution_count": 18,
   "id": "9e922482-cd2d-49b3-9e4e-1c60c2701a9b",
   "metadata": {},
   "outputs": [
    {
     "name": "stdout",
     "output_type": "stream",
     "text": [
      "          DataSet Unique_Users Unique_Dates\n",
      "1     df_activity           33           31\n",
      "2        df_sleep           24           31\n",
      "3    df_heartrate           14           32\n",
      "4 df_hourly_steps           33           32\n",
      "5       df_weight            8           31\n",
      "6    df_intensity           33           32\n"
     ]
    }
   ],
   "source": [
    "# Benzersiz değerlerin sayısını bir tablo halinde gösterelim\n",
    "distinct_counts <- data.frame(\n",
    "  DataSet = c(\"df_activity\", \"df_sleep\", \"df_heartrate\", \"df_hourly_steps\", \"df_weight\", \"df_intensity\"),\n",
    "  Unique_Users = c(n_distinct(df_activity$Id), \n",
    "                   n_distinct(df_sleep$Id), \n",
    "                   n_distinct(df_heartrate$Id), \n",
    "                   n_distinct(df_hourly_steps$Id), \n",
    "                   n_distinct(df_weight$Id), \n",
    "                   n_distinct(df_intensity$Id)),\n",
    "  Unique_Dates = c(n_distinct(df_activity$ActivityDate), \n",
    "                   n_distinct(df_sleep$SleepDay), \n",
    "                   n_distinct(df_heartrate$Date), \n",
    "                   n_distinct(df_hourly_steps$Date), \n",
    "                   n_distinct(df_weight$Date), \n",
    "                   n_distinct(df_intensity$Date))\n",
    ")\n",
    "\n",
    "# Tabloyu görüntüleyelim\n",
    "print(distinct_counts)\n"
   ]
  },
  {
   "cell_type": "code",
   "execution_count": 19,
   "id": "fd3bb2f3-d4d1-4087-920f-0015db76578f",
   "metadata": {},
   "outputs": [],
   "source": [
    "df_activity <- df_activity %>% arrange(ActivityDate)\n",
    "df_sleep <- df_sleep %>% arrange(SleepDay)\n",
    "df_heartrate <- df_heartrate %>% arrange(Time)\n",
    "df_hourly_steps <- df_hourly_steps %>% arrange(Date)\n",
    "df_intensity <- df_intensity %>% arrange(Date)\n",
    "df_weight <- df_weight %>% arrange(Date)"
   ]
  },
  {
   "cell_type": "code",
   "execution_count": 20,
   "id": "08f487fc-4f21-46fa-8fb9-fff63a9f06ed",
   "metadata": {},
   "outputs": [],
   "source": [
    "### Bellabeat Case Study - ANALYZE Phase\n",
    "#Kullanıcıların günlük aktivite düzeyi nedir?\tdf_activity\tOrtalama adım sayısı, kalori yakımı, hareketsiz süre\n",
    "#Uyku ve fiziksel aktivite arasında nasıl bir ilişki var?\tdf_activity + df_sleep\tGünlük adım sayısı ile uyku süresi korelasyonu\n",
    "#Kalp atış hızı değişimleri nasıl?\tdf_heartrate\tGün içindeki ortalama kalp atış hızı değişimleri\n",
    "#Saatlik hareketlilik nasıl değişiyor?\tdf_hourly_steps + df_intensity\tSabah, öğle, akşam saatlik adım yoğunluğu\n",
    "#Kilo değişimi ile aktivite arasında nasıl bir ilişki var?\tdf_weight + df_activity\tKilo değişimi ve aktivite seviyesi analizi"
   ]
  },
  {
   "cell_type": "code",
   "execution_count": 21,
   "id": "15e95d45-2c9c-4b0d-bf9e-d9e88d46c017",
   "metadata": {},
   "outputs": [
    {
     "data": {
      "text/plain": [
       "   TotalSteps       Calories    SedentaryMinutes VeryActiveMinutes\n",
       " Min.   :    0   Min.   :   0   Min.   :   0.0   Min.   :  0.00   \n",
       " 1st Qu.: 3790   1st Qu.:1828   1st Qu.: 729.8   1st Qu.:  0.00   \n",
       " Median : 7406   Median :2134   Median :1057.5   Median :  4.00   \n",
       " Mean   : 7638   Mean   :2304   Mean   : 991.2   Mean   : 21.16   \n",
       " 3rd Qu.:10727   3rd Qu.:2793   3rd Qu.:1229.5   3rd Qu.: 32.00   \n",
       " Max.   :36019   Max.   :4900   Max.   :1440.0   Max.   :210.00   \n",
       " FairlyActiveMinutes LightlyActiveMinutes\n",
       " Min.   :  0.00      Min.   :  0.0       \n",
       " 1st Qu.:  0.00      1st Qu.:127.0       \n",
       " Median :  6.00      Median :199.0       \n",
       " Mean   : 13.56      Mean   :192.8       \n",
       " 3rd Qu.: 19.00      3rd Qu.:264.0       \n",
       " Max.   :143.00      Max.   :518.0       "
      ]
     },
     "metadata": {},
     "output_type": "display_data"
    }
   ],
   "source": [
    "summary(df_activity %>% select(TotalSteps, Calories, SedentaryMinutes, VeryActiveMinutes, FairlyActiveMinutes, LightlyActiveMinutes))\n",
    "\n"
   ]
  },
  {
   "cell_type": "code",
   "execution_count": 22,
   "id": "6f9b0e97-174e-45c2-aee1-364cba03057c",
   "metadata": {},
   "outputs": [
    {
     "data": {
      "text/html": [
       "0.591568086245336"
      ],
      "text/latex": [
       "0.591568086245336"
      ],
      "text/markdown": [
       "0.591568086245336"
      ],
      "text/plain": [
       "[1] 0.5915681"
      ]
     },
     "metadata": {},
     "output_type": "display_data"
    }
   ],
   "source": [
    "cor(df_activity$TotalSteps, df_activity$Calories, use = \"complete.obs\")\n"
   ]
  },
  {
   "cell_type": "code",
   "execution_count": 23,
   "id": "436133c9-b987-4e8f-b426-9fb39af15adf",
   "metadata": {},
   "outputs": [
    {
     "name": "stderr",
     "output_type": "stream",
     "text": [
      "\u001b[1m\u001b[22m`geom_smooth()` using formula = 'y ~ x'\n"
     ]
    },
    {
     "data": {
      "image/png": "[encoded data removed]",
      "text/plain": [
       "plot without title"
      ]
     },
     "metadata": {
      "image/png": {
       "height": 420,
       "width": 420
      }
     },
     "output_type": "display_data"
    }
   ],
   "source": [
    "ggplot(df_activity, aes(x = TotalSteps, y = Calories)) +\n",
    "  geom_point(color = \"blue\", alpha = 0.5) +\n",
    "  geom_smooth(method = \"lm\", color = \"red\") +\n",
    "  labs(title = \"Adım Sayısı & Kalori Yakımı İlişkisi\",\n",
    "       x = \"Toplam Adım Sayısı\",\n",
    "       y = \"Yakılan Kalori\") +\n",
    "  theme_minimal()\n",
    "\n"
   ]
  },
  {
   "cell_type": "code",
   "execution_count": 24,
   "id": "5be4531f-d978-4613-b426-301f5221cba0",
   "metadata": {},
   "outputs": [
    {
     "data": {
      "text/html": [
       "<table class=\"dataframe\">\n",
       "<caption>A tibble: 1 × 15</caption>\n",
       "<thead>\n",
       "\t<tr><th scope=col>Id</th><th scope=col>ActivityDate</th><th scope=col>TotalSteps</th><th scope=col>TotalDistance</th><th scope=col>TrackerDistance</th><th scope=col>LoggedActivitiesDistance</th><th scope=col>VeryActiveDistance</th><th scope=col>ModeratelyActiveDistance</th><th scope=col>LightActiveDistance</th><th scope=col>SedentaryActiveDistance</th><th scope=col>VeryActiveMinutes</th><th scope=col>FairlyActiveMinutes</th><th scope=col>LightlyActiveMinutes</th><th scope=col>SedentaryMinutes</th><th scope=col>Calories</th></tr>\n",
       "\t<tr><th scope=col>&lt;dbl&gt;</th><th scope=col>&lt;date&gt;</th><th scope=col>&lt;dbl&gt;</th><th scope=col>&lt;dbl&gt;</th><th scope=col>&lt;dbl&gt;</th><th scope=col>&lt;dbl&gt;</th><th scope=col>&lt;dbl&gt;</th><th scope=col>&lt;dbl&gt;</th><th scope=col>&lt;dbl&gt;</th><th scope=col>&lt;dbl&gt;</th><th scope=col>&lt;dbl&gt;</th><th scope=col>&lt;dbl&gt;</th><th scope=col>&lt;dbl&gt;</th><th scope=col>&lt;dbl&gt;</th><th scope=col>&lt;dbl&gt;</th></tr>\n",
       "</thead>\n",
       "<tbody>\n",
       "\t<tr><td>4020332650</td><td>2016-04-16</td><td>1982</td><td>1.42</td><td>1.42</td><td>0</td><td>0.45</td><td>0.37</td><td>0.59</td><td>0</td><td>65</td><td>21</td><td>55</td><td>1222</td><td>3051</td></tr>\n",
       "</tbody>\n",
       "</table>\n"
      ],
      "text/latex": [
       "A tibble: 1 × 15\n",
       "\\begin{tabular}{lllllllllllllll}\n",
       " Id & ActivityDate & TotalSteps & TotalDistance & TrackerDistance & LoggedActivitiesDistance & VeryActiveDistance & ModeratelyActiveDistance & LightActiveDistance & SedentaryActiveDistance & VeryActiveMinutes & FairlyActiveMinutes & LightlyActiveMinutes & SedentaryMinutes & Calories\\\\\n",
       " <dbl> & <date> & <dbl> & <dbl> & <dbl> & <dbl> & <dbl> & <dbl> & <dbl> & <dbl> & <dbl> & <dbl> & <dbl> & <dbl> & <dbl>\\\\\n",
       "\\hline\n",
       "\t 4020332650 & 2016-04-16 & 1982 & 1.42 & 1.42 & 0 & 0.45 & 0.37 & 0.59 & 0 & 65 & 21 & 55 & 1222 & 3051\\\\\n",
       "\\end{tabular}\n"
      ],
      "text/markdown": [
       "\n",
       "A tibble: 1 × 15\n",
       "\n",
       "| Id &lt;dbl&gt; | ActivityDate &lt;date&gt; | TotalSteps &lt;dbl&gt; | TotalDistance &lt;dbl&gt; | TrackerDistance &lt;dbl&gt; | LoggedActivitiesDistance &lt;dbl&gt; | VeryActiveDistance &lt;dbl&gt; | ModeratelyActiveDistance &lt;dbl&gt; | LightActiveDistance &lt;dbl&gt; | SedentaryActiveDistance &lt;dbl&gt; | VeryActiveMinutes &lt;dbl&gt; | FairlyActiveMinutes &lt;dbl&gt; | LightlyActiveMinutes &lt;dbl&gt; | SedentaryMinutes &lt;dbl&gt; | Calories &lt;dbl&gt; |\n",
       "|---|---|---|---|---|---|---|---|---|---|---|---|---|---|---|\n",
       "| 4020332650 | 2016-04-16 | 1982 | 1.42 | 1.42 | 0 | 0.45 | 0.37 | 0.59 | 0 | 65 | 21 | 55 | 1222 | 3051 |\n",
       "\n"
      ],
      "text/plain": [
       "  Id         ActivityDate TotalSteps TotalDistance TrackerDistance\n",
       "1 4020332650 2016-04-16   1982       1.42          1.42           \n",
       "  LoggedActivitiesDistance VeryActiveDistance ModeratelyActiveDistance\n",
       "1 0                        0.45               0.37                    \n",
       "  LightActiveDistance SedentaryActiveDistance VeryActiveMinutes\n",
       "1 0.59                0                       65               \n",
       "  FairlyActiveMinutes LightlyActiveMinutes SedentaryMinutes Calories\n",
       "1 21                  55                   1222             3051    "
      ]
     },
     "metadata": {},
     "output_type": "display_data"
    }
   ],
   "source": [
    "df_activity %>%\n",
    "  filter(TotalSteps < 2000 & Calories > 3000 | TotalSteps > 20000 & Calories < 2000)\n"
   ]
  },
  {
   "cell_type": "code",
   "execution_count": 25,
   "id": "51a285c6-2bc7-4489-8fe8-4fef5de0bced",
   "metadata": {},
   "outputs": [
    {
     "data": {
      "image/png": "[encoded data removed]",
      "text/plain": [
       "plot without title"
      ]
     },
     "metadata": {
      "image/png": {
       "height": 420,
       "width": 420
      }
     },
     "output_type": "display_data"
    }
   ],
   "source": [
    "library(ggplot2)\n",
    "\n",
    "ggplot(df_activity, aes(x = TotalSteps)) +\n",
    "  geom_histogram(binwidth = 2000, fill = \"blue\", color = \"black\", alpha = 0.7) +\n",
    "  labs(title = \"Günlük Adım Sayısı Dağılımı\", x = \"Toplam Adım Sayısı\", y = \"Kişi Sayısı\") +\n",
    "  theme_minimal()\n"
   ]
  },
  {
   "cell_type": "code",
   "execution_count": 26,
   "id": "4923dca8-d203-44c9-b400-9db8b2c97e04",
   "metadata": {},
   "outputs": [
    {
     "data": {
      "text/plain": [
       " TotalMinutesAsleep TotalTimeInBed \n",
       " Min.   : 58.0      Min.   : 61.0  \n",
       " 1st Qu.:361.0      1st Qu.:403.0  \n",
       " Median :433.0      Median :463.0  \n",
       " Mean   :419.5      Mean   :458.6  \n",
       " 3rd Qu.:490.0      3rd Qu.:526.0  \n",
       " Max.   :796.0      Max.   :961.0  "
      ]
     },
     "metadata": {},
     "output_type": "display_data"
    }
   ],
   "source": [
    "summary(df_sleep %>% select(TotalMinutesAsleep, TotalTimeInBed))\n"
   ]
  },
  {
   "cell_type": "code",
   "execution_count": 27,
   "id": "d8a5f34b-7d38-4328-ba21-78e9f9e4fc41",
   "metadata": {},
   "outputs": [
    {
     "data": {
      "text/html": [
       "-0.186866498925459"
      ],
      "text/latex": [
       "-0.186866498925459"
      ],
      "text/markdown": [
       "-0.186866498925459"
      ],
      "text/plain": [
       "[1] -0.1868665"
      ]
     },
     "metadata": {},
     "output_type": "display_data"
    }
   ],
   "source": [
    "df_merged <- df_activity %>%\n",
    "  inner_join(df_sleep, by = c(\"Id\", \"ActivityDate\" = \"SleepDay\"))\n",
    "\n",
    "cor(df_merged$TotalSteps, df_merged$TotalMinutesAsleep, use = \"complete.obs\")\n"
   ]
  },
  {
   "cell_type": "code",
   "execution_count": 31,
   "id": "351ca615-8f60-43dd-b3a5-60cd643ba3f1",
   "metadata": {},
   "outputs": [
    {
     "data": {
      "image/png": "[encoded data removed]",
      "text/plain": [
       "plot without title"
      ]
     },
     "metadata": {
      "image/png": {
       "height": 420,
       "width": 420
      }
     },
     "output_type": "display_data"
    }
   ],
   "source": [
    "df_hourly_steps %>%\n",
    "  mutate(Hour = format(ActivityHour, \"%H\")) %>%\n",
    "  group_by(Hour) %>%\n",
    "  summarise(AvgSteps = mean(StepTotal, na.rm = TRUE)) %>%\n",
    "  ggplot(aes(x = as.numeric(Hour), y = AvgSteps)) +  \n",
    "  geom_line(color = \"blue\") +\n",
    "  labs(title = \"Saatlik Adım Sayısı Değişimi\",\n",
    "       x = \"Saat\",\n",
    "       y = \"Ortalama Adım Sayısı\") +\n",
    "  theme_minimal()"
   ]
  },
  {
   "cell_type": "code",
   "execution_count": 33,
   "id": "a1e38869-524a-4ac8-b520-8c080a6a6227",
   "metadata": {},
   "outputs": [],
   "source": [
    "df_weight_activity <- df_weight %>%\n",
    "  inner_join(df_activity, by = c(\"Id\", \"Date\" = \"ActivityDate\"))\n",
    "\n"
   ]
  },
  {
   "cell_type": "code",
   "execution_count": 34,
   "id": "f5a64a11-2057-4eb2-993e-e8f7161f636a",
   "metadata": {},
   "outputs": [
    {
     "name": "stderr",
     "output_type": "stream",
     "text": [
      "\u001b[1m\u001b[22m`geom_smooth()` using formula = 'y ~ x'\n"
     ]
    },
    {
     "data": {
      "image/png": "[encoded data removed]",
      "text/plain": [
       "plot without title"
      ]
     },
     "metadata": {
      "image/png": {
       "height": 420,
       "width": 420
      }
     },
     "output_type": "display_data"
    }
   ],
   "source": [
    "ggplot(df_weight_activity, aes(x = WeightKg, y = TotalSteps)) +\n",
    "  geom_point(color = \"green\", alpha = 0.5) +\n",
    "  geom_smooth(method = \"lm\", color = \"red\") +\n",
    "  labs(title = \"Kilo ve Adım Sayısı İlişkisi\",\n",
    "       x = \"Kilo (Kg)\",\n",
    "       y = \"Toplam Adım Sayısı\") +\n",
    "  theme_minimal()\n"
   ]
  },
  {
   "cell_type": "code",
   "execution_count": 35,
   "id": "0f250070-cfaa-443b-af9a-9c9bed104c5e",
   "metadata": {},
   "outputs": [
    {
     "data": {
      "text/html": [
       "<table class=\"dataframe\">\n",
       "<caption>A tibble: 2 × 2</caption>\n",
       "<thead>\n",
       "\t<tr><th scope=col>TimeOfDay</th><th scope=col>AverageCalories</th></tr>\n",
       "\t<tr><th scope=col>&lt;chr&gt;</th><th scope=col>&lt;dbl&gt;</th></tr>\n",
       "</thead>\n",
       "<tbody>\n",
       "\t<tr><td>Akşam</td><td>13.97035</td></tr>\n",
       "\t<tr><td>Sabah</td><td>13.85072</td></tr>\n",
       "</tbody>\n",
       "</table>\n"
      ],
      "text/latex": [
       "A tibble: 2 × 2\n",
       "\\begin{tabular}{ll}\n",
       " TimeOfDay & AverageCalories\\\\\n",
       " <chr> & <dbl>\\\\\n",
       "\\hline\n",
       "\t Akşam & 13.97035\\\\\n",
       "\t Sabah & 13.85072\\\\\n",
       "\\end{tabular}\n"
      ],
      "text/markdown": [
       "\n",
       "A tibble: 2 × 2\n",
       "\n",
       "| TimeOfDay &lt;chr&gt; | AverageCalories &lt;dbl&gt; |\n",
       "|---|---|\n",
       "| Akşam | 13.97035 |\n",
       "| Sabah | 13.85072 |\n",
       "\n"
      ],
      "text/plain": [
       "  TimeOfDay AverageCalories\n",
       "1 Akşam     13.97035       \n",
       "2 Sabah     13.85072       "
      ]
     },
     "metadata": {},
     "output_type": "display_data"
    }
   ],
   "source": [
    "df_calories_time <- df_intensity %>%\n",
    "  mutate(Hour = as.numeric(format(ActivityHour, \"%H\"))) %>%\n",
    "  filter(Hour >= 6 & Hour < 12 | Hour >= 18 & Hour < 24) %>%  # Sadece sabah ve akşam saatlerini al\n",
    "  mutate(TimeOfDay = case_when(\n",
    "    Hour >= 6 & Hour < 12 ~ \"Sabah\",\n",
    "    Hour >= 18 & Hour < 24 ~ \"Akşam\"\n",
    "  )) %>%\n",
    "  group_by(TimeOfDay) %>%\n",
    "  summarise(AverageCalories = mean(TotalIntensity, na.rm = TRUE))\n",
    "\n",
    "df_calories_time\n"
   ]
  },
  {
   "cell_type": "code",
   "execution_count": 37,
   "id": "e09f4239-faaa-4d90-ba92-e4b21d1f1b80",
   "metadata": {},
   "outputs": [
    {
     "data": {
      "image/png": "[encoded data removed]",
      "text/plain": [
       "plot without title"
      ]
     },
     "metadata": {
      "image/png": {
       "height": 420,
       "width": 420
      }
     },
     "output_type": "display_data"
    }
   ],
   "source": [
    "df_hourly_calories <- df_intensity %>%\n",
    "  mutate(Hour = as.numeric(format(ActivityHour, \"%H\"))) %>%\n",
    "  group_by(Hour) %>%\n",
    "  summarise(AverageCalories = mean(TotalIntensity, na.rm = TRUE))\n",
    "\n",
    "ggplot(df_hourly_calories, aes(x = Hour, y = AverageCalories)) +\n",
    "  geom_line(color = \"blue\") +\n",
    "  geom_point(color = \"red\") +\n",
    "  labs(title = \"Saatlik Ortalama Kalori Yakımı\",\n",
    "       x = \"Saat\",\n",
    "       y = \"Ortalama Kalori Yakımı\") +\n",
    "  theme_minimal()\n"
   ]
  },
  {
   "cell_type": "code",
   "execution_count": 40,
   "id": "d88d4fae-d7af-4545-803c-4c2aab7682b1",
   "metadata": {},
   "outputs": [],
   "source": [
    "### Bellabeat Case Study - SHARE Phase"
   ]
  },
  {
   "cell_type": "code",
   "execution_count": 39,
   "id": "7fd047df-35f0-4bd3-8f7f-a43b461601a8",
   "metadata": {},
   "outputs": [],
   "source": [
    "#SONUÇLAR ve ÖNERİLER\n",
    "#Adım sayısı ile kalori yakımı arasında güçlü bir pozitif ilişki var.\n",
    "#Gün içinde hareketlilik en fazla 10:00-12:00 ve 17:00-20:00 saatleri arasında.\n",
    "#Uyku süresi ile adım sayısı arasında zayıf negatif bir korelasyon var.\n",
    "#Kullanıcıların sabah ve akşam kalori yakımı büyük ölçüde benzer, ancak akşam hafifçe daha fazla.\n",
    "#Bellabeat, bu verilere göre sabah ve akşam egzersiz önerilerini optimize edebilir.\n"
   ]
  },
  {
   "cell_type": "code",
   "execution_count": null,
   "id": "e78b8c79-b9e0-46aa-b04c-493b5ed57040",
   "metadata": {},
   "outputs": [],
   "source": []
  }
 ],
 "metadata": {
  "kernelspec": {
   "display_name": "R",
   "language": "R",
   "name": "ir"
  },
  "language_info": {
   "codemirror_mode": "r",
   "file_extension": ".r",
   "mimetype": "text/x-r-source",
   "name": "R",
   "pygments_lexer": "r",
   "version": "4.4.2"
  }
 },
 "nbformat": 4,
 "nbformat_minor": 5
}
